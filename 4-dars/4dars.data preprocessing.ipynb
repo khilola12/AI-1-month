{
 "cells": [
  {
   "cell_type": "code",
   "execution_count": 4,
   "id": "b34b7f4a",
   "metadata": {},
   "outputs": [
    {
     "name": "stdout",
     "output_type": "stream",
     "text": [
      "Requirement already satisfied: pandas in c:\\users\\pc\\appdata\\local\\programs\\python\\python313\\lib\\site-packages (2.2.3)\n",
      "Requirement already satisfied: numpy>=1.26.0 in c:\\users\\pc\\appdata\\local\\programs\\python\\python313\\lib\\site-packages (from pandas) (2.2.0)\n",
      "Requirement already satisfied: python-dateutil>=2.8.2 in c:\\users\\pc\\appdata\\local\\programs\\python\\python313\\lib\\site-packages (from pandas) (2.9.0.post0)\n",
      "Requirement already satisfied: pytz>=2020.1 in c:\\users\\pc\\appdata\\local\\programs\\python\\python313\\lib\\site-packages (from pandas) (2024.2)\n",
      "Requirement already satisfied: tzdata>=2022.7 in c:\\users\\pc\\appdata\\local\\programs\\python\\python313\\lib\\site-packages (from pandas) (2024.2)\n",
      "Requirement already satisfied: six>=1.5 in c:\\users\\pc\\appdata\\local\\programs\\python\\python313\\lib\\site-packages (from python-dateutil>=2.8.2->pandas) (1.17.0)\n"
     ]
    },
    {
     "name": "stderr",
     "output_type": "stream",
     "text": [
      "\n",
      "[notice] A new release of pip is available: 25.1.1 -> 25.2\n",
      "[notice] To update, run: python.exe -m pip install --upgrade pip\n"
     ]
    }
   ],
   "source": [
    "!pip install pandas"
   ]
  },
  {
   "cell_type": "code",
   "execution_count": null,
   "id": "855059c7",
   "metadata": {},
   "outputs": [],
   "source": [
    "import pandas as pd"
   ]
  },
  {
   "cell_type": "markdown",
   "id": "1f57bd75",
   "metadata": {},
   "source": [
    "# Data Preprocessing"
   ]
  },
  {
   "cell_type": "code",
   "execution_count": 46,
   "id": "85ec9daf",
   "metadata": {},
   "outputs": [],
   "source": [
    "#1-dataset\n",
    "df=pd.read_csv('Bank_Personal_Loan_Modelling.csv')"
   ]
  },
  {
   "cell_type": "code",
   "execution_count": 47,
   "id": "971b1f04",
   "metadata": {},
   "outputs": [
    {
     "name": "stdout",
     "output_type": "stream",
     "text": [
      "<class 'pandas.core.frame.DataFrame'>\n",
      "RangeIndex: 5000 entries, 0 to 4999\n",
      "Data columns (total 14 columns):\n",
      " #   Column              Non-Null Count  Dtype  \n",
      "---  ------              --------------  -----  \n",
      " 0   ID                  5000 non-null   int64  \n",
      " 1   Age                 5000 non-null   int64  \n",
      " 2   Experience          5000 non-null   int64  \n",
      " 3   Income              5000 non-null   int64  \n",
      " 4   ZIP Code            5000 non-null   float64\n",
      " 5   Family              5000 non-null   float64\n",
      " 6   CCAvg               4999 non-null   float64\n",
      " 7   Education           4998 non-null   float64\n",
      " 8   Mortgage            4997 non-null   float64\n",
      " 9   Personal Loan       4997 non-null   float64\n",
      " 10  Securities Account  4997 non-null   float64\n",
      " 11  CD Account          4995 non-null   float64\n",
      " 12  Online              4993 non-null   float64\n",
      " 13  CreditCard          4992 non-null   float64\n",
      "dtypes: float64(10), int64(4)\n",
      "memory usage: 547.0 KB\n"
     ]
    }
   ],
   "source": [
    "df.info() #ataset haqida umumiy malumot bilish"
   ]
  },
  {
   "cell_type": "code",
   "execution_count": null,
   "id": "41ad14e8",
   "metadata": {},
   "outputs": [
    {
     "data": {
      "text/plain": [
       "ID                    0\n",
       "Age                   0\n",
       "Experience            0\n",
       "Income                0\n",
       "ZIP Code              0\n",
       "Family                0\n",
       "CCAvg                 0\n",
       "Education             0\n",
       "Mortgage              1\n",
       "Personal Loan         1\n",
       "Securities Account    1\n",
       "CD Account            3\n",
       "Online                5\n",
       "CreditCard            5\n",
       "dtype: int64"
      ]
     },
     "execution_count": 27,
     "metadata": {},
     "output_type": "execute_result"
    }
   ],
   "source": [
    "df.isnull().sum()"
   ]
  },
  {
   "cell_type": "markdown",
   "id": "2fb91c46",
   "metadata": {},
   "source": [
    "# Mean  (O‘rtacha arifmetik) \n",
    "Barcha qiymatlarning yig‘indisini ularning soniga bo‘lish orqali topiladi.\n",
    "Raqamli qiymatlar bilan ishlashda."
   ]
  },
  {
   "cell_type": "code",
   "execution_count": null,
   "id": "542168cf",
   "metadata": {},
   "outputs": [
    {
     "name": "stderr",
     "output_type": "stream",
     "text": [
      "C:\\Users\\PC\\AppData\\Local\\Temp\\ipykernel_7284\\312433896.py:1: FutureWarning: A value is trying to be set on a copy of a DataFrame or Series through chained assignment using an inplace method.\n",
      "The behavior will change in pandas 3.0. This inplace method will never work because the intermediate object on which we are setting values always behaves as a copy.\n",
      "\n",
      "For example, when doing 'df[col].method(value, inplace=True)', try using 'df.method({col: value}, inplace=True)' or df[col] = df[col].method(value) instead, to perform the operation inplace on the original object.\n",
      "\n",
      "\n",
      "  df['Personal Loan'].fillna(df['Personal Loan'].mean(),inplace=True)\n"
     ]
    }
   ],
   "source": [
    "df['Personal Loan'].fillna(df['Personal Loan'].mean(),inplace=True)\n",
    "#     df['Personal Loan']. --> o'zgartirmoqchi bo'lgan qiymatni nomi beriladi -->\n",
    "#    -->             fillna --> tushirib qoldirilgan qiymatni to'ldirish(shu ustun ichidagi o'rta arifmetik  qiymat bilan (mean) )\n",
    "#      -->     inplace=True --> datasetni ichida ham o'zgarishi uchun(agar birmartalik o'zgartirmoqchi bo'lsak yozmasa bo'ladi)"
   ]
  },
  {
   "cell_type": "code",
   "execution_count": 49,
   "id": "eda9fe61",
   "metadata": {},
   "outputs": [
    {
     "name": "stderr",
     "output_type": "stream",
     "text": [
      "C:\\Users\\PC\\AppData\\Local\\Temp\\ipykernel_7284\\1296012988.py:1: FutureWarning: A value is trying to be set on a copy of a DataFrame or Series through chained assignment using an inplace method.\n",
      "The behavior will change in pandas 3.0. This inplace method will never work because the intermediate object on which we are setting values always behaves as a copy.\n",
      "\n",
      "For example, when doing 'df[col].method(value, inplace=True)', try using 'df.method({col: value}, inplace=True)' or df[col] = df[col].method(value) instead, to perform the operation inplace on the original object.\n",
      "\n",
      "\n",
      "  df['Mortgage'].fillna(df['Mortgage'].mean(),inplace=True)\n"
     ]
    }
   ],
   "source": [
    "df['Mortgage'].fillna(df['Mortgage'].mean(),inplace=True)"
   ]
  },
  {
   "cell_type": "markdown",
   "id": "722fd28f",
   "metadata": {},
   "source": [
    "# Mode (Eng ko‘p takrorlangan qiymat)\n",
    "Ma’lumot ichida eng ko‘p uchragan qiymat mode deyiladi. \n",
    "ex: [Male, Female, Female, Male, Female] → Mode = Female\n",
    "    [10, 20, 20, 30] → Mode = 20\n"
   ]
  },
  {
   "cell_type": "code",
   "execution_count": 50,
   "id": "c5644bf4",
   "metadata": {},
   "outputs": [
    {
     "name": "stderr",
     "output_type": "stream",
     "text": [
      "C:\\Users\\PC\\AppData\\Local\\Temp\\ipykernel_7284\\3392388751.py:1: FutureWarning: A value is trying to be set on a copy of a DataFrame or Series through chained assignment using an inplace method.\n",
      "The behavior will change in pandas 3.0. This inplace method will never work because the intermediate object on which we are setting values always behaves as a copy.\n",
      "\n",
      "For example, when doing 'df[col].method(value, inplace=True)', try using 'df.method({col: value}, inplace=True)' or df[col] = df[col].method(value) instead, to perform the operation inplace on the original object.\n",
      "\n",
      "\n",
      "  df['Securities Account'].fillna(df['Securities Account'].mode()[0],inplace=True)\n"
     ]
    }
   ],
   "source": [
    "df['Securities Account'].fillna(df['Securities Account'].mode()[0],inplace=True)"
   ]
  },
  {
   "cell_type": "markdown",
   "id": "5daec0c7",
   "metadata": {},
   "source": [
    "# Median (O‘rta qiymat)\n",
    "faqat raqamli qiymatda ishlatiladi"
   ]
  },
  {
   "cell_type": "code",
   "execution_count": 55,
   "id": "0f6da0d7",
   "metadata": {},
   "outputs": [
    {
     "name": "stderr",
     "output_type": "stream",
     "text": [
      "C:\\Users\\PC\\AppData\\Local\\Temp\\ipykernel_7284\\2764081312.py:1: FutureWarning: A value is trying to be set on a copy of a DataFrame or Series through chained assignment using an inplace method.\n",
      "The behavior will change in pandas 3.0. This inplace method will never work because the intermediate object on which we are setting values always behaves as a copy.\n",
      "\n",
      "For example, when doing 'df[col].method(value, inplace=True)', try using 'df.method({col: value}, inplace=True)' or df[col] = df[col].method(value) instead, to perform the operation inplace on the original object.\n",
      "\n",
      "\n",
      "  df['CD Account'].fillna(df['CD Account'].median(),inplace=True)\n"
     ]
    }
   ],
   "source": [
    "df['CD Account'].fillna(df['CD Account'].median(),inplace=True)"
   ]
  },
  {
   "cell_type": "code",
   "execution_count": 56,
   "id": "f3fdcd10",
   "metadata": {},
   "outputs": [
    {
     "name": "stderr",
     "output_type": "stream",
     "text": [
      "C:\\Users\\PC\\AppData\\Local\\Temp\\ipykernel_7284\\2115438073.py:1: FutureWarning: A value is trying to be set on a copy of a DataFrame or Series through chained assignment using an inplace method.\n",
      "The behavior will change in pandas 3.0. This inplace method will never work because the intermediate object on which we are setting values always behaves as a copy.\n",
      "\n",
      "For example, when doing 'df[col].method(value, inplace=True)', try using 'df.method({col: value}, inplace=True)' or df[col] = df[col].method(value) instead, to perform the operation inplace on the original object.\n",
      "\n",
      "\n",
      "  df['Online'].fillna(df['Online'].mean(),inplace=True)\n"
     ]
    }
   ],
   "source": [
    "df['Online'].fillna(df['Online'].mean(),inplace=True)"
   ]
  },
  {
   "cell_type": "code",
   "execution_count": 57,
   "id": "5c3736ca",
   "metadata": {},
   "outputs": [
    {
     "name": "stderr",
     "output_type": "stream",
     "text": [
      "C:\\Users\\PC\\AppData\\Local\\Temp\\ipykernel_7284\\3886140598.py:1: FutureWarning: A value is trying to be set on a copy of a DataFrame or Series through chained assignment using an inplace method.\n",
      "The behavior will change in pandas 3.0. This inplace method will never work because the intermediate object on which we are setting values always behaves as a copy.\n",
      "\n",
      "For example, when doing 'df[col].method(value, inplace=True)', try using 'df.method({col: value}, inplace=True)' or df[col] = df[col].method(value) instead, to perform the operation inplace on the original object.\n",
      "\n",
      "\n",
      "  df['CreditCard'].fillna(df['CreditCard'].median(),inplace=True)\n"
     ]
    }
   ],
   "source": [
    "df['CreditCard'].fillna(df['CreditCard'].median(),inplace=True)"
   ]
  },
  {
   "cell_type": "code",
   "execution_count": 59,
   "id": "3b8c53b7",
   "metadata": {},
   "outputs": [
    {
     "name": "stdout",
     "output_type": "stream",
     "text": [
      "<class 'pandas.core.frame.DataFrame'>\n",
      "RangeIndex: 5000 entries, 0 to 4999\n",
      "Data columns (total 14 columns):\n",
      " #   Column              Non-Null Count  Dtype  \n",
      "---  ------              --------------  -----  \n",
      " 0   ID                  5000 non-null   int64  \n",
      " 1   Age                 5000 non-null   int64  \n",
      " 2   Experience          5000 non-null   int64  \n",
      " 3   Income              5000 non-null   int64  \n",
      " 4   ZIP Code            5000 non-null   float64\n",
      " 5   Family              5000 non-null   float64\n",
      " 6   CCAvg               4999 non-null   float64\n",
      " 7   Education           4998 non-null   float64\n",
      " 8   Mortgage            5000 non-null   float64\n",
      " 9   Personal Loan       5000 non-null   float64\n",
      " 10  Securities Account  5000 non-null   float64\n",
      " 11  CD Account          5000 non-null   float64\n",
      " 12  Online              5000 non-null   float64\n",
      " 13  CreditCard          5000 non-null   float64\n",
      "dtypes: float64(10), int64(4)\n",
      "memory usage: 547.0 KB\n"
     ]
    }
   ],
   "source": [
    "df.info()"
   ]
  },
  {
   "cell_type": "code",
   "execution_count": 58,
   "id": "0c617e0e",
   "metadata": {},
   "outputs": [
    {
     "data": {
      "text/plain": [
       "ID                    0\n",
       "Age                   0\n",
       "Experience            0\n",
       "Income                0\n",
       "ZIP Code              0\n",
       "Family                0\n",
       "CCAvg                 1\n",
       "Education             2\n",
       "Mortgage              0\n",
       "Personal Loan         0\n",
       "Securities Account    0\n",
       "CD Account            0\n",
       "Online                0\n",
       "CreditCard            0\n",
       "dtype: int64"
      ]
     },
     "execution_count": 58,
     "metadata": {},
     "output_type": "execute_result"
    }
   ],
   "source": [
    "df.isnull().sum()"
   ]
  },
  {
   "cell_type": "code",
   "execution_count": 60,
   "id": "30f76142",
   "metadata": {},
   "outputs": [
    {
     "name": "stderr",
     "output_type": "stream",
     "text": [
      "C:\\Users\\PC\\AppData\\Local\\Temp\\ipykernel_7284\\2357109227.py:1: FutureWarning: A value is trying to be set on a copy of a DataFrame or Series through chained assignment using an inplace method.\n",
      "The behavior will change in pandas 3.0. This inplace method will never work because the intermediate object on which we are setting values always behaves as a copy.\n",
      "\n",
      "For example, when doing 'df[col].method(value, inplace=True)', try using 'df.method({col: value}, inplace=True)' or df[col] = df[col].method(value) instead, to perform the operation inplace on the original object.\n",
      "\n",
      "\n",
      "  df['CCAvg'].fillna(df['CCAvg'].mean(),inplace=True)\n"
     ]
    }
   ],
   "source": [
    "df['CCAvg'].fillna(df['CCAvg'].mean(),inplace=True)"
   ]
  },
  {
   "cell_type": "code",
   "execution_count": 61,
   "id": "df6421e2",
   "metadata": {},
   "outputs": [
    {
     "name": "stderr",
     "output_type": "stream",
     "text": [
      "C:\\Users\\PC\\AppData\\Local\\Temp\\ipykernel_7284\\3641212661.py:1: FutureWarning: A value is trying to be set on a copy of a DataFrame or Series through chained assignment using an inplace method.\n",
      "The behavior will change in pandas 3.0. This inplace method will never work because the intermediate object on which we are setting values always behaves as a copy.\n",
      "\n",
      "For example, when doing 'df[col].method(value, inplace=True)', try using 'df.method({col: value}, inplace=True)' or df[col] = df[col].method(value) instead, to perform the operation inplace on the original object.\n",
      "\n",
      "\n",
      "  df['Education'].fillna(df['Education'].mean(),inplace=True)\n"
     ]
    }
   ],
   "source": [
    "df['Education'].fillna(df['Education'].mean(),inplace=True)"
   ]
  },
  {
   "cell_type": "code",
   "execution_count": 62,
   "id": "efd0718a",
   "metadata": {},
   "outputs": [
    {
     "name": "stdout",
     "output_type": "stream",
     "text": [
      "<class 'pandas.core.frame.DataFrame'>\n",
      "RangeIndex: 5000 entries, 0 to 4999\n",
      "Data columns (total 14 columns):\n",
      " #   Column              Non-Null Count  Dtype  \n",
      "---  ------              --------------  -----  \n",
      " 0   ID                  5000 non-null   int64  \n",
      " 1   Age                 5000 non-null   int64  \n",
      " 2   Experience          5000 non-null   int64  \n",
      " 3   Income              5000 non-null   int64  \n",
      " 4   ZIP Code            5000 non-null   float64\n",
      " 5   Family              5000 non-null   float64\n",
      " 6   CCAvg               5000 non-null   float64\n",
      " 7   Education           5000 non-null   float64\n",
      " 8   Mortgage            5000 non-null   float64\n",
      " 9   Personal Loan       5000 non-null   float64\n",
      " 10  Securities Account  5000 non-null   float64\n",
      " 11  CD Account          5000 non-null   float64\n",
      " 12  Online              5000 non-null   float64\n",
      " 13  CreditCard          5000 non-null   float64\n",
      "dtypes: float64(10), int64(4)\n",
      "memory usage: 547.0 KB\n"
     ]
    }
   ],
   "source": [
    "df.info()"
   ]
  },
  {
   "cell_type": "code",
   "execution_count": 63,
   "id": "218cbaea",
   "metadata": {},
   "outputs": [],
   "source": [
    "#2-dataset\n",
    "df=pd.read_csv('cybersecurity_intrusion_data.csv')"
   ]
  },
  {
   "cell_type": "code",
   "execution_count": 43,
   "id": "6c581c26",
   "metadata": {},
   "outputs": [
    {
     "name": "stdout",
     "output_type": "stream",
     "text": [
      "<class 'pandas.core.frame.DataFrame'>\n",
      "RangeIndex: 9537 entries, 0 to 9536\n",
      "Data columns (total 11 columns):\n",
      " #   Column               Non-Null Count  Dtype  \n",
      "---  ------               --------------  -----  \n",
      " 0   session_id           9537 non-null   object \n",
      " 1   network_packet_size  9537 non-null   int64  \n",
      " 2   protocol_type        9537 non-null   object \n",
      " 3   login_attempts       9537 non-null   int64  \n",
      " 4   session_duration     9537 non-null   float64\n",
      " 5   encryption_used      7572 non-null   object \n",
      " 6   ip_reputation_score  9537 non-null   float64\n",
      " 7   failed_logins        9536 non-null   object \n",
      " 8   browser_type         9536 non-null   object \n",
      " 9   unusual_time_access  9536 non-null   float64\n",
      " 10  attack_detected      9534 non-null   float64\n",
      "dtypes: float64(4), int64(2), object(5)\n",
      "memory usage: 819.7+ KB\n"
     ]
    }
   ],
   "source": [
    "df.info()"
   ]
  },
  {
   "cell_type": "code",
   "execution_count": null,
   "id": "ffd8a77e",
   "metadata": {},
   "outputs": [
    {
     "name": "stderr",
     "output_type": "stream",
     "text": [
      "C:\\Users\\PC\\AppData\\Local\\Temp\\ipykernel_7284\\91125382.py:1: FutureWarning: A value is trying to be set on a copy of a DataFrame or Series through chained assignment using an inplace method.\n",
      "The behavior will change in pandas 3.0. This inplace method will never work because the intermediate object on which we are setting values always behaves as a copy.\n",
      "\n",
      "For example, when doing 'df[col].method(value, inplace=True)', try using 'df.method({col: value}, inplace=True)' or df[col] = df[col].method(value) instead, to perform the operation inplace on the original object.\n",
      "\n",
      "\n",
      "  df['encryption_used'].fillna(df['encryption_used'].mode()[0],inplace=True)\n"
     ]
    }
   ],
   "source": [
    "df['encryption_used'].fillna(df['encryption_used'].mode()[0],inplace=True) #mode()[0] buyerda [0] --> eng kop takrorlangan qiymatni birinchisidan boshlab royxatdan olish"
   ]
  },
  {
   "cell_type": "code",
   "execution_count": 67,
   "id": "55c58b50",
   "metadata": {},
   "outputs": [
    {
     "name": "stderr",
     "output_type": "stream",
     "text": [
      "C:\\Users\\PC\\AppData\\Local\\Temp\\ipykernel_7284\\341933881.py:1: FutureWarning: A value is trying to be set on a copy of a DataFrame or Series through chained assignment using an inplace method.\n",
      "The behavior will change in pandas 3.0. This inplace method will never work because the intermediate object on which we are setting values always behaves as a copy.\n",
      "\n",
      "For example, when doing 'df[col].method(value, inplace=True)', try using 'df.method({col: value}, inplace=True)' or df[col] = df[col].method(value) instead, to perform the operation inplace on the original object.\n",
      "\n",
      "\n",
      "  df['failed_logins'].fillna(df['failed_logins'].mode()[0],inplace=True)\n"
     ]
    }
   ],
   "source": [
    "df['failed_logins'].fillna(df['failed_logins'].mode()[0],inplace=True)"
   ]
  },
  {
   "cell_type": "code",
   "execution_count": 68,
   "id": "3bb9e1a1",
   "metadata": {},
   "outputs": [
    {
     "name": "stderr",
     "output_type": "stream",
     "text": [
      "C:\\Users\\PC\\AppData\\Local\\Temp\\ipykernel_7284\\4252560789.py:1: FutureWarning: A value is trying to be set on a copy of a DataFrame or Series through chained assignment using an inplace method.\n",
      "The behavior will change in pandas 3.0. This inplace method will never work because the intermediate object on which we are setting values always behaves as a copy.\n",
      "\n",
      "For example, when doing 'df[col].method(value, inplace=True)', try using 'df.method({col: value}, inplace=True)' or df[col] = df[col].method(value) instead, to perform the operation inplace on the original object.\n",
      "\n",
      "\n",
      "  df['browser_type'].fillna(df['browser_type'].mode()[0],inplace=True)\n"
     ]
    }
   ],
   "source": [
    "df['browser_type'].fillna(df['browser_type'].mode()[0],inplace=True)"
   ]
  },
  {
   "cell_type": "code",
   "execution_count": 69,
   "id": "519486e8",
   "metadata": {},
   "outputs": [
    {
     "name": "stderr",
     "output_type": "stream",
     "text": [
      "C:\\Users\\PC\\AppData\\Local\\Temp\\ipykernel_7284\\2500490998.py:1: FutureWarning: A value is trying to be set on a copy of a DataFrame or Series through chained assignment using an inplace method.\n",
      "The behavior will change in pandas 3.0. This inplace method will never work because the intermediate object on which we are setting values always behaves as a copy.\n",
      "\n",
      "For example, when doing 'df[col].method(value, inplace=True)', try using 'df.method({col: value}, inplace=True)' or df[col] = df[col].method(value) instead, to perform the operation inplace on the original object.\n",
      "\n",
      "\n",
      "  df['unusual_time_access'].fillna(df['unusual_time_access'].mean(),inplace=True)\n"
     ]
    }
   ],
   "source": [
    "df['unusual_time_access'].fillna(df['unusual_time_access'].mean(),inplace=True)"
   ]
  },
  {
   "cell_type": "code",
   "execution_count": 70,
   "id": "dea71142",
   "metadata": {},
   "outputs": [
    {
     "name": "stderr",
     "output_type": "stream",
     "text": [
      "C:\\Users\\PC\\AppData\\Local\\Temp\\ipykernel_7284\\1731383804.py:1: FutureWarning: A value is trying to be set on a copy of a DataFrame or Series through chained assignment using an inplace method.\n",
      "The behavior will change in pandas 3.0. This inplace method will never work because the intermediate object on which we are setting values always behaves as a copy.\n",
      "\n",
      "For example, when doing 'df[col].method(value, inplace=True)', try using 'df.method({col: value}, inplace=True)' or df[col] = df[col].method(value) instead, to perform the operation inplace on the original object.\n",
      "\n",
      "\n",
      "  df['attack_detected'].fillna(df['attack_detected'].median(),inplace=True)\n"
     ]
    }
   ],
   "source": [
    "df['attack_detected'].fillna(df['attack_detected'].median(),inplace=True)"
   ]
  },
  {
   "cell_type": "code",
   "execution_count": 71,
   "id": "15b3b8c4",
   "metadata": {},
   "outputs": [
    {
     "name": "stdout",
     "output_type": "stream",
     "text": [
      "<class 'pandas.core.frame.DataFrame'>\n",
      "RangeIndex: 9537 entries, 0 to 9536\n",
      "Data columns (total 11 columns):\n",
      " #   Column               Non-Null Count  Dtype  \n",
      "---  ------               --------------  -----  \n",
      " 0   session_id           9537 non-null   object \n",
      " 1   network_packet_size  9537 non-null   int64  \n",
      " 2   protocol_type        9537 non-null   object \n",
      " 3   login_attempts       9537 non-null   int64  \n",
      " 4   session_duration     9537 non-null   float64\n",
      " 5   encryption_used      9537 non-null   object \n",
      " 6   ip_reputation_score  9537 non-null   float64\n",
      " 7   failed_logins        9537 non-null   object \n",
      " 8   browser_type         9537 non-null   object \n",
      " 9   unusual_time_access  9537 non-null   float64\n",
      " 10  attack_detected      9537 non-null   float64\n",
      "dtypes: float64(4), int64(2), object(5)\n",
      "memory usage: 819.7+ KB\n"
     ]
    }
   ],
   "source": [
    "df.info()"
   ]
  },
  {
   "cell_type": "code",
   "execution_count": 72,
   "id": "647487f4",
   "metadata": {},
   "outputs": [
    {
     "data": {
      "text/plain": [
       "session_id             0\n",
       "network_packet_size    0\n",
       "protocol_type          0\n",
       "login_attempts         0\n",
       "session_duration       0\n",
       "encryption_used        0\n",
       "ip_reputation_score    0\n",
       "failed_logins          0\n",
       "browser_type           0\n",
       "unusual_time_access    0\n",
       "attack_detected        0\n",
       "dtype: int64"
      ]
     },
     "execution_count": 72,
     "metadata": {},
     "output_type": "execute_result"
    }
   ],
   "source": [
    "df.isnull().sum()"
   ]
  },
  {
   "cell_type": "code",
   "execution_count": 73,
   "id": "c4524ac1",
   "metadata": {},
   "outputs": [
    {
     "name": "stderr",
     "output_type": "stream",
     "text": [
      "C:\\Users\\PC\\AppData\\Local\\Temp\\ipykernel_7284\\2965126896.py:2: DtypeWarning: Columns (4) have mixed types. Specify dtype option on import or set low_memory=False.\n",
      "  df=pd.read_csv('test.csv')\n"
     ]
    }
   ],
   "source": [
    "# 3-dataset\n",
    "df=pd.read_csv('test.csv')"
   ]
  },
  {
   "cell_type": "code",
   "execution_count": 74,
   "id": "fe3bd494",
   "metadata": {},
   "outputs": [
    {
     "name": "stdout",
     "output_type": "stream",
     "text": [
      "<class 'pandas.core.frame.DataFrame'>\n",
      "RangeIndex: 999997 entries, 0 to 999996\n",
      "Data columns (total 21 columns):\n",
      " #   Column             Non-Null Count   Dtype  \n",
      "---  ------             --------------   -----  \n",
      " 0   Age                999997 non-null  int64  \n",
      " 1   Grade              999997 non-null  int64  \n",
      " 2   Gender             999994 non-null  object \n",
      " 3   Race               999997 non-null  object \n",
      " 4   SES_Quartile       999997 non-null  object \n",
      " 5   ParentalEducation  999997 non-null  object \n",
      " 6   SchoolType         999997 non-null  object \n",
      " 7   Locale             999997 non-null  object \n",
      " 8   TestScore_Math     999997 non-null  float64\n",
      " 9   TestScore_Reading  999995 non-null  float64\n",
      " 10  TestScore_Science  999997 non-null  float64\n",
      " 11  GPA                999997 non-null  float64\n",
      " 12  AttendanceRate     999997 non-null  float64\n",
      " 13  StudyHours         999995 non-null  float64\n",
      " 14  InternetAccess     999997 non-null  int64  \n",
      " 15  Extracurricular    999997 non-null  int64  \n",
      " 16  PartTimeJob        999997 non-null  int64  \n",
      " 17  ParentSupport      999996 non-null  float64\n",
      " 18  Romantic           999996 non-null  float64\n",
      " 19  FreeTime           999994 non-null  float64\n",
      " 20  GoOut              999990 non-null  float64\n",
      "dtypes: float64(10), int64(5), object(6)\n",
      "memory usage: 160.2+ MB\n"
     ]
    }
   ],
   "source": [
    "df.info()"
   ]
  },
  {
   "cell_type": "code",
   "execution_count": 79,
   "id": "0bc2272d",
   "metadata": {},
   "outputs": [],
   "source": [
    "df['Gender'].fillna(df['Gender'].mode()[0],inplace=True)"
   ]
  },
  {
   "cell_type": "code",
   "execution_count": 80,
   "id": "8fe85ea6",
   "metadata": {},
   "outputs": [
    {
     "name": "stderr",
     "output_type": "stream",
     "text": [
      "C:\\Users\\PC\\AppData\\Local\\Temp\\ipykernel_7284\\4226347658.py:1: FutureWarning: A value is trying to be set on a copy of a DataFrame or Series through chained assignment using an inplace method.\n",
      "The behavior will change in pandas 3.0. This inplace method will never work because the intermediate object on which we are setting values always behaves as a copy.\n",
      "\n",
      "For example, when doing 'df[col].method(value, inplace=True)', try using 'df.method({col: value}, inplace=True)' or df[col] = df[col].method(value) instead, to perform the operation inplace on the original object.\n",
      "\n",
      "\n",
      "  df['TestScore_Reading'].fillna(df['TestScore_Reading'].mean(),inplace=True)\n"
     ]
    }
   ],
   "source": [
    "df['TestScore_Reading'].fillna(df['TestScore_Reading'].mean(),inplace=True)"
   ]
  },
  {
   "cell_type": "code",
   "execution_count": 77,
   "id": "9a089f7c",
   "metadata": {},
   "outputs": [
    {
     "name": "stderr",
     "output_type": "stream",
     "text": [
      "C:\\Users\\PC\\AppData\\Local\\Temp\\ipykernel_7284\\690661526.py:1: FutureWarning: A value is trying to be set on a copy of a DataFrame or Series through chained assignment using an inplace method.\n",
      "The behavior will change in pandas 3.0. This inplace method will never work because the intermediate object on which we are setting values always behaves as a copy.\n",
      "\n",
      "For example, when doing 'df[col].method(value, inplace=True)', try using 'df.method({col: value}, inplace=True)' or df[col] = df[col].method(value) instead, to perform the operation inplace on the original object.\n",
      "\n",
      "\n",
      "  df['StudyHours'].fillna(df['StudyHours'].mean(),inplace=True)\n"
     ]
    }
   ],
   "source": [
    "df['StudyHours'].fillna(df['StudyHours'].mean(),inplace=True)"
   ]
  },
  {
   "cell_type": "code",
   "execution_count": 78,
   "id": "67a92938",
   "metadata": {},
   "outputs": [
    {
     "name": "stderr",
     "output_type": "stream",
     "text": [
      "C:\\Users\\PC\\AppData\\Local\\Temp\\ipykernel_7284\\4066198888.py:1: FutureWarning: A value is trying to be set on a copy of a DataFrame or Series through chained assignment using an inplace method.\n",
      "The behavior will change in pandas 3.0. This inplace method will never work because the intermediate object on which we are setting values always behaves as a copy.\n",
      "\n",
      "For example, when doing 'df[col].method(value, inplace=True)', try using 'df.method({col: value}, inplace=True)' or df[col] = df[col].method(value) instead, to perform the operation inplace on the original object.\n",
      "\n",
      "\n",
      "  df['ParentSupport'].fillna(df['ParentSupport'].median(),inplace=True)\n"
     ]
    }
   ],
   "source": [
    "df['ParentSupport'].fillna(df['ParentSupport'].median(),inplace=True)"
   ]
  },
  {
   "cell_type": "code",
   "execution_count": 82,
   "id": "db0fd815",
   "metadata": {},
   "outputs": [
    {
     "name": "stderr",
     "output_type": "stream",
     "text": [
      "C:\\Users\\PC\\AppData\\Local\\Temp\\ipykernel_7284\\946126015.py:1: FutureWarning: A value is trying to be set on a copy of a DataFrame or Series through chained assignment using an inplace method.\n",
      "The behavior will change in pandas 3.0. This inplace method will never work because the intermediate object on which we are setting values always behaves as a copy.\n",
      "\n",
      "For example, when doing 'df[col].method(value, inplace=True)', try using 'df.method({col: value}, inplace=True)' or df[col] = df[col].method(value) instead, to perform the operation inplace on the original object.\n",
      "\n",
      "\n",
      "  df['FreeTime'].fillna(df['FreeTime'].mean(),inplace=True)\n"
     ]
    }
   ],
   "source": [
    "df['FreeTime'].fillna(df['FreeTime'].mean(),inplace=True)"
   ]
  },
  {
   "cell_type": "code",
   "execution_count": 83,
   "id": "c2c56960",
   "metadata": {},
   "outputs": [
    {
     "name": "stderr",
     "output_type": "stream",
     "text": [
      "C:\\Users\\PC\\AppData\\Local\\Temp\\ipykernel_7284\\382769526.py:1: FutureWarning: A value is trying to be set on a copy of a DataFrame or Series through chained assignment using an inplace method.\n",
      "The behavior will change in pandas 3.0. This inplace method will never work because the intermediate object on which we are setting values always behaves as a copy.\n",
      "\n",
      "For example, when doing 'df[col].method(value, inplace=True)', try using 'df.method({col: value}, inplace=True)' or df[col] = df[col].method(value) instead, to perform the operation inplace on the original object.\n",
      "\n",
      "\n",
      "  df['Romantic'].fillna(df['Romantic'].median(),inplace=True)\n"
     ]
    }
   ],
   "source": [
    "df['Romantic'].fillna(df['Romantic'].median(),inplace=True)"
   ]
  },
  {
   "cell_type": "markdown",
   "id": "f7caf604",
   "metadata": {},
   "source": [
    "# Fixed qiymatt orqali to'ldirish\n",
    "(Bunda ham raqamli ham object qiymatda OK)(ozimiz xoxlagan qiymat bn)"
   ]
  },
  {
   "cell_type": "code",
   "execution_count": 86,
   "id": "04a4c9d2",
   "metadata": {},
   "outputs": [
    {
     "name": "stderr",
     "output_type": "stream",
     "text": [
      "C:\\Users\\PC\\AppData\\Local\\Temp\\ipykernel_7284\\3981531201.py:1: FutureWarning: A value is trying to be set on a copy of a DataFrame or Series through chained assignment using an inplace method.\n",
      "The behavior will change in pandas 3.0. This inplace method will never work because the intermediate object on which we are setting values always behaves as a copy.\n",
      "\n",
      "For example, when doing 'df[col].method(value, inplace=True)', try using 'df.method({col: value}, inplace=True)' or df[col] = df[col].method(value) instead, to perform the operation inplace on the original object.\n",
      "\n",
      "\n",
      "  df['GoOut'].fillna('3',inplace=True)\n",
      "C:\\Users\\PC\\AppData\\Local\\Temp\\ipykernel_7284\\3981531201.py:1: FutureWarning: Setting an item of incompatible dtype is deprecated and will raise an error in a future version of pandas. Value '3' has dtype incompatible with float64, please explicitly cast to a compatible dtype first.\n",
      "  df['GoOut'].fillna('3',inplace=True)\n"
     ]
    }
   ],
   "source": [
    "df['GoOut'].fillna('3',inplace=True)"
   ]
  },
  {
   "cell_type": "code",
   "execution_count": 88,
   "id": "eab9ca99",
   "metadata": {},
   "outputs": [
    {
     "data": {
      "text/html": [
       "<div>\n",
       "<style scoped>\n",
       "    .dataframe tbody tr th:only-of-type {\n",
       "        vertical-align: middle;\n",
       "    }\n",
       "\n",
       "    .dataframe tbody tr th {\n",
       "        vertical-align: top;\n",
       "    }\n",
       "\n",
       "    .dataframe thead th {\n",
       "        text-align: right;\n",
       "    }\n",
       "</style>\n",
       "<table border=\"1\" class=\"dataframe\">\n",
       "  <thead>\n",
       "    <tr style=\"text-align: right;\">\n",
       "      <th></th>\n",
       "      <th>Age</th>\n",
       "      <th>Grade</th>\n",
       "      <th>Gender</th>\n",
       "      <th>Race</th>\n",
       "      <th>SES_Quartile</th>\n",
       "      <th>ParentalEducation</th>\n",
       "      <th>SchoolType</th>\n",
       "      <th>Locale</th>\n",
       "      <th>TestScore_Math</th>\n",
       "      <th>TestScore_Reading</th>\n",
       "      <th>...</th>\n",
       "      <th>GPA</th>\n",
       "      <th>AttendanceRate</th>\n",
       "      <th>StudyHours</th>\n",
       "      <th>InternetAccess</th>\n",
       "      <th>Extracurricular</th>\n",
       "      <th>PartTimeJob</th>\n",
       "      <th>ParentSupport</th>\n",
       "      <th>Romantic</th>\n",
       "      <th>FreeTime</th>\n",
       "      <th>GoOut</th>\n",
       "    </tr>\n",
       "  </thead>\n",
       "  <tbody>\n",
       "    <tr>\n",
       "      <th>0</th>\n",
       "      <td>15</td>\n",
       "      <td>10</td>\n",
       "      <td>Female</td>\n",
       "      <td>White</td>\n",
       "      <td>1</td>\n",
       "      <td>HS</td>\n",
       "      <td>Public</td>\n",
       "      <td>City</td>\n",
       "      <td>72.346053</td>\n",
       "      <td>62.217134</td>\n",
       "      <td>...</td>\n",
       "      <td>2.521745</td>\n",
       "      <td>0.868836</td>\n",
       "      <td>0.310172</td>\n",
       "      <td>0</td>\n",
       "      <td>1</td>\n",
       "      <td>1</td>\n",
       "      <td>1.0</td>\n",
       "      <td>0.0</td>\n",
       "      <td>3.0</td>\n",
       "      <td>3.0</td>\n",
       "    </tr>\n",
       "    <tr>\n",
       "      <th>1</th>\n",
       "      <td>16</td>\n",
       "      <td>11</td>\n",
       "      <td>Female</td>\n",
       "      <td>Hispanic</td>\n",
       "      <td>1</td>\n",
       "      <td>&lt;HS</td>\n",
       "      <td>Private</td>\n",
       "      <td>City</td>\n",
       "      <td>77.889157</td>\n",
       "      <td>72.748030</td>\n",
       "      <td>...</td>\n",
       "      <td>3.275626</td>\n",
       "      <td>0.909595</td>\n",
       "      <td>1.175586</td>\n",
       "      <td>1</td>\n",
       "      <td>1</td>\n",
       "      <td>0</td>\n",
       "      <td>0.0</td>\n",
       "      <td>1.0</td>\n",
       "      <td>3.0</td>\n",
       "      <td>1.0</td>\n",
       "    </tr>\n",
       "    <tr>\n",
       "      <th>2</th>\n",
       "      <td>17</td>\n",
       "      <td>12</td>\n",
       "      <td>Female</td>\n",
       "      <td>Black</td>\n",
       "      <td>2</td>\n",
       "      <td>HS</td>\n",
       "      <td>Public</td>\n",
       "      <td>Rural</td>\n",
       "      <td>72.966587</td>\n",
       "      <td>65.585472</td>\n",
       "      <td>...</td>\n",
       "      <td>2.974137</td>\n",
       "      <td>0.870952</td>\n",
       "      <td>1.112556</td>\n",
       "      <td>1</td>\n",
       "      <td>1</td>\n",
       "      <td>0</td>\n",
       "      <td>0.0</td>\n",
       "      <td>0.0</td>\n",
       "      <td>3.0</td>\n",
       "      <td>3.0</td>\n",
       "    </tr>\n",
       "    <tr>\n",
       "      <th>3</th>\n",
       "      <td>16</td>\n",
       "      <td>11</td>\n",
       "      <td>Female</td>\n",
       "      <td>White</td>\n",
       "      <td>2</td>\n",
       "      <td>HS</td>\n",
       "      <td>Public</td>\n",
       "      <td>Town</td>\n",
       "      <td>96.674049</td>\n",
       "      <td>88.035852</td>\n",
       "      <td>...</td>\n",
       "      <td>3.676590</td>\n",
       "      <td>1.000000</td>\n",
       "      <td>1.067679</td>\n",
       "      <td>0</td>\n",
       "      <td>0</td>\n",
       "      <td>0</td>\n",
       "      <td>0.0</td>\n",
       "      <td>1.0</td>\n",
       "      <td>4.0</td>\n",
       "      <td>5.0</td>\n",
       "    </tr>\n",
       "    <tr>\n",
       "      <th>4</th>\n",
       "      <td>16</td>\n",
       "      <td>11</td>\n",
       "      <td>Male</td>\n",
       "      <td>Black</td>\n",
       "      <td>3</td>\n",
       "      <td>Bachelors+</td>\n",
       "      <td>Public</td>\n",
       "      <td>Rural</td>\n",
       "      <td>81.989270</td>\n",
       "      <td>77.485372</td>\n",
       "      <td>...</td>\n",
       "      <td>2.255014</td>\n",
       "      <td>0.897957</td>\n",
       "      <td>0.841936</td>\n",
       "      <td>0</td>\n",
       "      <td>1</td>\n",
       "      <td>0</td>\n",
       "      <td>1.0</td>\n",
       "      <td>0.0</td>\n",
       "      <td>4.0</td>\n",
       "      <td>2.0</td>\n",
       "    </tr>\n",
       "  </tbody>\n",
       "</table>\n",
       "<p>5 rows × 21 columns</p>\n",
       "</div>"
      ],
      "text/plain": [
       "   Age  Grade  Gender      Race SES_Quartile ParentalEducation SchoolType  \\\n",
       "0   15     10  Female     White            1                HS     Public   \n",
       "1   16     11  Female  Hispanic            1               <HS    Private   \n",
       "2   17     12  Female     Black            2                HS     Public   \n",
       "3   16     11  Female     White            2                HS     Public   \n",
       "4   16     11    Male     Black            3        Bachelors+     Public   \n",
       "\n",
       "  Locale  TestScore_Math  TestScore_Reading  ...       GPA  AttendanceRate  \\\n",
       "0   City       72.346053          62.217134  ...  2.521745        0.868836   \n",
       "1   City       77.889157          72.748030  ...  3.275626        0.909595   \n",
       "2  Rural       72.966587          65.585472  ...  2.974137        0.870952   \n",
       "3   Town       96.674049          88.035852  ...  3.676590        1.000000   \n",
       "4  Rural       81.989270          77.485372  ...  2.255014        0.897957   \n",
       "\n",
       "   StudyHours  InternetAccess  Extracurricular  PartTimeJob  ParentSupport  \\\n",
       "0    0.310172               0                1            1            1.0   \n",
       "1    1.175586               1                1            0            0.0   \n",
       "2    1.112556               1                1            0            0.0   \n",
       "3    1.067679               0                0            0            0.0   \n",
       "4    0.841936               0                1            0            1.0   \n",
       "\n",
       "   Romantic  FreeTime  GoOut  \n",
       "0       0.0       3.0    3.0  \n",
       "1       1.0       3.0    1.0  \n",
       "2       0.0       3.0    3.0  \n",
       "3       1.0       4.0    5.0  \n",
       "4       0.0       4.0    2.0  \n",
       "\n",
       "[5 rows x 21 columns]"
      ]
     },
     "execution_count": 88,
     "metadata": {},
     "output_type": "execute_result"
    }
   ],
   "source": [
    "df.head()"
   ]
  },
  {
   "cell_type": "code",
   "execution_count": 87,
   "id": "10b37d45",
   "metadata": {},
   "outputs": [
    {
     "name": "stdout",
     "output_type": "stream",
     "text": [
      "<class 'pandas.core.frame.DataFrame'>\n",
      "RangeIndex: 999997 entries, 0 to 999996\n",
      "Data columns (total 21 columns):\n",
      " #   Column             Non-Null Count   Dtype  \n",
      "---  ------             --------------   -----  \n",
      " 0   Age                999997 non-null  int64  \n",
      " 1   Grade              999997 non-null  int64  \n",
      " 2   Gender             999997 non-null  object \n",
      " 3   Race               999997 non-null  object \n",
      " 4   SES_Quartile       999997 non-null  object \n",
      " 5   ParentalEducation  999997 non-null  object \n",
      " 6   SchoolType         999997 non-null  object \n",
      " 7   Locale             999997 non-null  object \n",
      " 8   TestScore_Math     999997 non-null  float64\n",
      " 9   TestScore_Reading  999997 non-null  float64\n",
      " 10  TestScore_Science  999997 non-null  float64\n",
      " 11  GPA                999997 non-null  float64\n",
      " 12  AttendanceRate     999997 non-null  float64\n",
      " 13  StudyHours         999997 non-null  float64\n",
      " 14  InternetAccess     999997 non-null  int64  \n",
      " 15  Extracurricular    999997 non-null  int64  \n",
      " 16  PartTimeJob        999997 non-null  int64  \n",
      " 17  ParentSupport      999997 non-null  float64\n",
      " 18  Romantic           999997 non-null  float64\n",
      " 19  FreeTime           999997 non-null  float64\n",
      " 20  GoOut              999997 non-null  object \n",
      "dtypes: float64(9), int64(5), object(7)\n",
      "memory usage: 160.2+ MB\n"
     ]
    }
   ],
   "source": [
    "df.info()"
   ]
  },
  {
   "cell_type": "code",
   "execution_count": null,
   "id": "0d4d6a88",
   "metadata": {},
   "outputs": [],
   "source": []
  },
  {
   "cell_type": "markdown",
   "id": "7ce5a661",
   "metadata": {},
   "source": [
    "# Tashlab yuborish (Kamchilik kop bolganda)\n",
    "drop orqali\n"
   ]
  },
  {
   "cell_type": "code",
   "execution_count": null,
   "id": "a2c691fe",
   "metadata": {},
   "outputs": [],
   "source": [
    "df.dropna('GoOut',axis=1,inplace=True) #Ustun tashlab yuboriish (qiymatda juda kop kamchilik bolsa)"
   ]
  }
 ],
 "metadata": {
  "kernelspec": {
   "display_name": "Python 3",
   "language": "python",
   "name": "python3"
  },
  "language_info": {
   "codemirror_mode": {
    "name": "ipython",
    "version": 3
   },
   "file_extension": ".py",
   "mimetype": "text/x-python",
   "name": "python",
   "nbconvert_exporter": "python",
   "pygments_lexer": "ipython3",
   "version": "3.13.5"
  }
 },
 "nbformat": 4,
 "nbformat_minor": 5
}
