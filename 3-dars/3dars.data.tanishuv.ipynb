{
 "cells": [
  {
   "cell_type": "markdown",
   "id": "e14d2807",
   "metadata": {},
   "source": [
    "# Conditions"
   ]
  },
  {
   "cell_type": "code",
   "execution_count": 11,
   "id": "a78a544a",
   "metadata": {},
   "outputs": [
    {
     "name": "stdout",
     "output_type": "stream",
     "text": [
      "a soni musbat\n"
     ]
    }
   ],
   "source": [
    "#syntax\n",
    "a=2\n",
    "if a>0:\n",
    "    print('a soni musbat')"
   ]
  },
  {
   "cell_type": "code",
   "execution_count": 12,
   "id": "32e58cfd",
   "metadata": {},
   "outputs": [
    {
     "name": "stdout",
     "output_type": "stream",
     "text": [
      "a soni manfiy\n"
     ]
    }
   ],
   "source": [
    "a=-2\n",
    "if a>0:\n",
    "    print('a soni musbat')\n",
    "else:\n",
    "    print('a soni manfiy')"
   ]
  },
  {
   "cell_type": "code",
   "execution_count": 13,
   "id": "240e9ea0",
   "metadata": {},
   "outputs": [
    {
     "name": "stdout",
     "output_type": "stream",
     "text": [
      "a soni nolga teng\n"
     ]
    }
   ],
   "source": [
    "a=0\n",
    "if a>0:\n",
    "    print('a soni musbat')\n",
    "elif a<0:\n",
    "    print('a soni manfiy')\n",
    "else:\n",
    "    print('a soni nolga teng')"
   ]
  },
  {
   "cell_type": "code",
   "execution_count": null,
   "id": "2f15f1fa",
   "metadata": {},
   "outputs": [
    {
     "data": {
      "text/plain": [
       "True"
      ]
     },
     "execution_count": 14,
     "metadata": {},
     "output_type": "execute_result"
    }
   ],
   "source": [
    "# Operations teng--> == ,   teng emas--> !=\n",
    "1==1"
   ]
  },
  {
   "cell_type": "code",
   "execution_count": 15,
   "id": "eebf5fa7",
   "metadata": {},
   "outputs": [
    {
     "data": {
      "text/plain": [
       "True"
      ]
     },
     "execution_count": 15,
     "metadata": {},
     "output_type": "execute_result"
    }
   ],
   "source": [
    "1!=2"
   ]
  },
  {
   "cell_type": "code",
   "execution_count": 16,
   "id": "b019997c",
   "metadata": {},
   "outputs": [
    {
     "name": "stdout",
     "output_type": "stream",
     "text": [
      "Yaxshi\n"
     ]
    }
   ],
   "source": [
    "#O'quvchini baxolash\n",
    "baxo=int(input('sonni kiriting:'))  #umumiy xolat\n",
    "if baxo==5:\n",
    "    print('Alo')\n",
    "elif baxo==4:\n",
    "    print('Yaxshi')\n",
    "elif baxo==3:\n",
    "    print('Qoniqarli')\n",
    "elif baxo==2:\n",
    "    print('Yomon')\n",
    "elif baxo==1:\n",
    "    print('Juda yomon')\n",
    "else:\n",
    "    print('xatolik bor')"
   ]
  },
  {
   "cell_type": "code",
   "execution_count": 30,
   "id": "1dc22099",
   "metadata": {},
   "outputs": [
    {
     "name": "stdout",
     "output_type": "stream",
     "text": [
      "a soni musbat\n"
     ]
    }
   ],
   "source": [
    "#Vazifa\n",
    "# 1.Berilgan sonni musbat  yoki manfiy ekanligini if yordamida aniqlang\n",
    "# 2.Berilgan sonni juft yoki toq ekanligini aniqlang\n",
    "# 3.Berigan so'zni boshi va oxirgi xarfini toping\n",
    "# 4.Berigan so'zni boshidan 2 chi va oxiridan ikkinchi xarfni toping\n",
    "\n",
    "#1.\n",
    "a=8\n",
    "if a>0:\n",
    "    print(\"a soni musbat\")\n",
    "else:\n",
    "    print(\"a soni manfiy\")"
   ]
  },
  {
   "cell_type": "code",
   "execution_count": 31,
   "id": "8c091448",
   "metadata": {},
   "outputs": [
    {
     "name": "stdout",
     "output_type": "stream",
     "text": [
      "Bu son toq.\n"
     ]
    }
   ],
   "source": [
    "#2.\n",
    "son = int(input(\"Son kiriting: \"))\n",
    "if son % 2 == 0:\n",
    "    print(\"Bu son juft.\")\n",
    "else:\n",
    "    print(\"Bu son toq.\")"
   ]
  },
  {
   "cell_type": "code",
   "execution_count": null,
   "id": "0f1ca136",
   "metadata": {},
   "outputs": [
    {
     "data": {
      "text/plain": [
       "'c'"
      ]
     },
     "execution_count": 24,
     "metadata": {},
     "output_type": "execute_result"
    }
   ],
   "source": [
    "#3.\n",
    "s=\"cybersecurity\"\n",
    "s[0]\n"
   ]
  },
  {
   "cell_type": "code",
   "execution_count": 35,
   "id": "1a5c21c5",
   "metadata": {},
   "outputs": [
    {
     "data": {
      "text/plain": [
       "'y'"
      ]
     },
     "execution_count": 35,
     "metadata": {},
     "output_type": "execute_result"
    }
   ],
   "source": [
    "s[-1]"
   ]
  },
  {
   "cell_type": "code",
   "execution_count": null,
   "id": "b16c11c8",
   "metadata": {},
   "outputs": [
    {
     "data": {
      "text/plain": [
       "'y'"
      ]
     },
     "execution_count": 26,
     "metadata": {},
     "output_type": "execute_result"
    }
   ],
   "source": [
    "#4.Berigan so'zni boshidan 2 chi va oxiridan ikkinchi xarfni toping\n",
    "s[1]"
   ]
  },
  {
   "cell_type": "code",
   "execution_count": 33,
   "id": "595f0770",
   "metadata": {},
   "outputs": [
    {
     "data": {
      "text/plain": [
       "'t'"
      ]
     },
     "execution_count": 33,
     "metadata": {},
     "output_type": "execute_result"
    }
   ],
   "source": [
    "s[-2]"
   ]
  },
  {
   "cell_type": "code",
   "execution_count": null,
   "id": "4965d976",
   "metadata": {},
   "outputs": [],
   "source": []
  }
 ],
 "metadata": {
  "kernelspec": {
   "display_name": "Python 3",
   "language": "python",
   "name": "python3"
  },
  "language_info": {
   "codemirror_mode": {
    "name": "ipython",
    "version": 3
   },
   "file_extension": ".py",
   "mimetype": "text/x-python",
   "name": "python",
   "nbconvert_exporter": "python",
   "pygments_lexer": "ipython3",
   "version": "3.13.5"
  }
 },
 "nbformat": 4,
 "nbformat_minor": 5
}
