{
 "cells": [
  {
   "cell_type": "markdown",
   "id": "c24c6673",
   "metadata": {},
   "source": [
    "# 6 dars savollarg ajavob"
   ]
  },
  {
   "cell_type": "code",
   "execution_count": null,
   "id": "04f7f61d",
   "metadata": {},
   "outputs": [
    {
     "name": "stdout",
     "output_type": "stream",
     "text": [
      "Yomon\n"
     ]
    }
   ],
   "source": [
    "#1.Agar berilgan son 2 ga bo’linsa yaxshi aks xolda yomon degan sozni ekrang chiqaring.\n",
    "\n",
    "son = int(input(\"Son kiriting: \"))\n",
    "if son %2 == 0:\n",
    "    print(\"Yaxshi\")\n",
    "else:\n",
    "    print('Yomon')"
   ]
  },
  {
   "cell_type": "code",
   "execution_count": 3,
   "id": "5cecead2",
   "metadata": {},
   "outputs": [
    {
     "name": "stdout",
     "output_type": "stream",
     "text": [
      "yaxshi\n"
     ]
    }
   ],
   "source": [
    "#2. Agar berilgan son musbat bolsa yaxshi aks holda yomon degan sozni ekranga chiqaring.\n",
    "\n",
    "son=int(input('Son kiriting'))\n",
    "if son>0:\n",
    "  print('yaxshi')\n",
    "else:\n",
    "  print('yomon')\n"
   ]
  },
  {
   "cell_type": "code",
   "execution_count": null,
   "id": "eb120af2",
   "metadata": {},
   "outputs": [
    {
     "name": "stdout",
     "output_type": "stream",
     "text": [
      "yomon\n"
     ]
    }
   ],
   "source": [
    "#3. Agar berilgan 5 ga va 3 ga bolinsa yaxshi aks xolda yomon degan sozni ekranga chiqaring.\n",
    "\n",
    "son=int(input('Son kiriting'))\n",
    "if son%5==0 and son%3==0:\n",
    "  print('yaxshi')\n",
    "else:\n",
    "  print('yomon')"
   ]
  },
  {
   "cell_type": "code",
   "execution_count": 7,
   "id": "4d9be33c",
   "metadata": {},
   "outputs": [
    {
     "name": "stdout",
     "output_type": "stream",
     "text": [
      "yaxshi\n"
     ]
    }
   ],
   "source": [
    "#4. Agar berilgan sozning bosh harfi 'a' bolsa yaxhsi aks holda yomon degan sozni ekranga chiqaring.\n",
    "\n",
    "soz=input('Soz kiriting')\n",
    "if soz.startswith('a'):\n",
    "  print('yaxshi')\n",
    "else:\n",
    "  print('yomon')"
   ]
  },
  {
   "cell_type": "code",
   "execution_count": 8,
   "id": "a599be42",
   "metadata": {},
   "outputs": [
    {
     "name": "stdout",
     "output_type": "stream",
     "text": [
      "yaxshi\n"
     ]
    }
   ],
   "source": [
    "# 5.Agar berilgan so’zning oxirgi xarfi ‘a’ bolsa yaxshi aks holda yomon degan sozni ekranga chiqaring.\n",
    "\n",
    "soz=input('Sozni kiriting')\n",
    "if soz.endswith('a'):\n",
    "  print('yaxshi')\n",
    "else:\n",
    "  print('yomon')"
   ]
  },
  {
   "cell_type": "code",
   "execution_count": 10,
   "id": "282c49ea",
   "metadata": {},
   "outputs": [
    {
     "name": "stdout",
     "output_type": "stream",
     "text": [
      "yomon\n"
     ]
    }
   ],
   "source": [
    "#6.Agar berilgan so’zning bosh xarfi ‘b’ va oxirgi xarfi ‘a’ bolsa yaxshi aks holda yomon degan sozni ekranga chiqaring.\n",
    "\n",
    "soz=input('Sozni kiriting')\n",
    "if soz.startswith('b') and soz.endswith('a'):\n",
    "  print('yaxshi')\n",
    "else:\n",
    "  print('yomon')"
   ]
  },
  {
   "cell_type": "code",
   "execution_count": 12,
   "id": "814cdd85",
   "metadata": {},
   "outputs": [
    {
     "name": "stdout",
     "output_type": "stream",
     "text": [
      "Bu son musbat\n"
     ]
    }
   ],
   "source": [
    "#7.Berilgan sozning musbat ekanligini isbotlang.\n",
    "\n",
    "son=int(input('Sonni kiriting'))\n",
    "if son>0:\n",
    "  print('Bu son musbat')\n",
    "else:\n",
    "  print('bu son musbat emas')"
   ]
  },
  {
   "cell_type": "code",
   "execution_count": 18,
   "id": "f6f5dff3",
   "metadata": {},
   "outputs": [
    {
     "name": "stdout",
     "output_type": "stream",
     "text": [
      "Berilgan son (-9) manfiy, chunki u 0 dan kichik.\n"
     ]
    }
   ],
   "source": [
    "#8.Berilgan sonning manfiy ekanligini isbotlang\n",
    "\n",
    "son = int(input('Iltimos, Son kiriting'))\n",
    "if son < 0:\n",
    "    print(f'Berilgan son ({son}) manfiy, chunki u 0 dan kichik.')\n",
    "elif son == 0:\n",
    "    print(f'Berilgan son ({son}) musbat ham emas, manfiy ham emas.')\n",
    "else:\n",
    "    print(f'Berilgan son ({son}) manfiy emas, chunki u 0 dan katta.')"
   ]
  },
  {
   "cell_type": "code",
   "execution_count": 19,
   "id": "e2dcc05e",
   "metadata": {},
   "outputs": [
    {
     "name": "stdout",
     "output_type": "stream",
     "text": [
      "Berilgan son (0) musbat ham emas, manfiy ham emas.\n"
     ]
    }
   ],
   "source": [
    "#9.Berilgan sonni nol ekanini isbotlang.\n",
    "\n",
    "son = int(input('Son kiriting'))\n",
    "if son < 0:\n",
    "    print(f'Berilgan son ({son}) manfiy, chunki u 0 dan kichik.')\n",
    "elif son == 0:\n",
    "    print(f'Berilgan son ({son}) musbat ham emas, manfiy ham emas.')\n",
    "else:\n",
    "    print(f'Berilgan son ({son}) manfiy emas, chunki u 0 dan katta.')"
   ]
  },
  {
   "cell_type": "code",
   "execution_count": 26,
   "id": "4383fdce",
   "metadata": {},
   "outputs": [
    {
     "name": "stdout",
     "output_type": "stream",
     "text": [
      "Berilgan son (0) nol.\n"
     ]
    }
   ],
   "source": [
    "#9.Berilgan sonni nol ekanini isbotlang.\n",
    "\n",
    "son = int(input('Son kiriting'))\n",
    "if son == 0:\n",
    "    print(f'Berilgan son ({son}) nol.')\n",
    "else:\n",
    "    print(f'Berilgan son ({son}) nol emas.')"
   ]
  },
  {
   "cell_type": "code",
   "execution_count": 28,
   "id": "e57cd61a",
   "metadata": {},
   "outputs": [
    {
     "name": "stdout",
     "output_type": "stream",
     "text": [
      "Son (8) 2 ga bolinadi.\n"
     ]
    }
   ],
   "source": [
    "#10. Berilgan son 2 ga bolinishini isbotlang.\n",
    "\n",
    "son = int(input('Son kiriting'))\n",
    "if son % 2 == 0:\n",
    "    print(f'Son ({son}) 2 ga bolinadi.')\n",
    "else:\n",
    "    print(f'Son ({son}) 2 ga bolinmaydi.')"
   ]
  },
  {
   "cell_type": "markdown",
   "id": "a76e11ca",
   "metadata": {},
   "source": [
    "# ML bo'yicha savol"
   ]
  },
  {
   "cell_type": "code",
   "execution_count": 29,
   "id": "9634b67f",
   "metadata": {},
   "outputs": [],
   "source": [
    "import pandas as pd"
   ]
  },
  {
   "cell_type": "code",
   "execution_count": 50,
   "id": "67829fa6",
   "metadata": {},
   "outputs": [],
   "source": [
    "df=pd.read_csv('cybersecurity_intrusion_data.csv')"
   ]
  },
  {
   "cell_type": "code",
   "execution_count": 51,
   "id": "dfad504c",
   "metadata": {},
   "outputs": [
    {
     "name": "stdout",
     "output_type": "stream",
     "text": [
      "<class 'pandas.core.frame.DataFrame'>\n",
      "RangeIndex: 9537 entries, 0 to 9536\n",
      "Data columns (total 11 columns):\n",
      " #   Column               Non-Null Count  Dtype  \n",
      "---  ------               --------------  -----  \n",
      " 0   session_id           9537 non-null   object \n",
      " 1   network_packet_size  9537 non-null   int64  \n",
      " 2   protocol_type        9537 non-null   object \n",
      " 3   login_attempts       9537 non-null   int64  \n",
      " 4   session_duration     9537 non-null   float64\n",
      " 5   encryption_used      7572 non-null   object \n",
      " 6   ip_reputation_score  9537 non-null   float64\n",
      " 7   failed_logins        9536 non-null   object \n",
      " 8   browser_type         9536 non-null   object \n",
      " 9   unusual_time_access  9536 non-null   float64\n",
      " 10  attack_detected      9534 non-null   float64\n",
      "dtypes: float64(4), int64(2), object(5)\n",
      "memory usage: 819.7+ KB\n"
     ]
    }
   ],
   "source": [
    "df.info()"
   ]
  },
  {
   "cell_type": "code",
   "execution_count": 52,
   "id": "5e90e510",
   "metadata": {},
   "outputs": [
    {
     "name": "stderr",
     "output_type": "stream",
     "text": [
      "C:\\Users\\PC\\AppData\\Local\\Temp\\ipykernel_23196\\2264187641.py:3: FutureWarning: A value is trying to be set on a copy of a DataFrame or Series through chained assignment using an inplace method.\n",
      "The behavior will change in pandas 3.0. This inplace method will never work because the intermediate object on which we are setting values always behaves as a copy.\n",
      "\n",
      "For example, when doing 'df[col].method(value, inplace=True)', try using 'df.method({col: value}, inplace=True)' or df[col] = df[col].method(value) instead, to perform the operation inplace on the original object.\n",
      "\n",
      "\n",
      "  df['unusual_time_access'].fillna(df['unusual_time_access'].mean(),inplace=True)\n"
     ]
    }
   ],
   "source": [
    "# 1. Mean orqali toldirish\n",
    "\n",
    "df['unusual_time_access'].fillna(df['unusual_time_access'].mean(),inplace=True)"
   ]
  },
  {
   "cell_type": "code",
   "execution_count": 53,
   "id": "a67a2237",
   "metadata": {},
   "outputs": [
    {
     "name": "stderr",
     "output_type": "stream",
     "text": [
      "C:\\Users\\PC\\AppData\\Local\\Temp\\ipykernel_23196\\1311465532.py:3: FutureWarning: A value is trying to be set on a copy of a DataFrame or Series through chained assignment using an inplace method.\n",
      "The behavior will change in pandas 3.0. This inplace method will never work because the intermediate object on which we are setting values always behaves as a copy.\n",
      "\n",
      "For example, when doing 'df[col].method(value, inplace=True)', try using 'df.method({col: value}, inplace=True)' or df[col] = df[col].method(value) instead, to perform the operation inplace on the original object.\n",
      "\n",
      "\n",
      "  df['failed_logins'].fillna(df['failed_logins'].mode()[0],inplace=True)\n"
     ]
    }
   ],
   "source": [
    "# 2. Mode orqali toldirish\n",
    "\n",
    "df['failed_logins'].fillna(df['failed_logins'].mode()[0],inplace=True)"
   ]
  },
  {
   "cell_type": "code",
   "execution_count": 54,
   "id": "1ca49a1a",
   "metadata": {},
   "outputs": [
    {
     "name": "stderr",
     "output_type": "stream",
     "text": [
      "C:\\Users\\PC\\AppData\\Local\\Temp\\ipykernel_23196\\3580677155.py:3: FutureWarning: A value is trying to be set on a copy of a DataFrame or Series through chained assignment using an inplace method.\n",
      "The behavior will change in pandas 3.0. This inplace method will never work because the intermediate object on which we are setting values always behaves as a copy.\n",
      "\n",
      "For example, when doing 'df[col].method(value, inplace=True)', try using 'df.method({col: value}, inplace=True)' or df[col] = df[col].method(value) instead, to perform the operation inplace on the original object.\n",
      "\n",
      "\n",
      "  df['attack_detected'].fillna(df['attack_detected'].median(),inplace=True)\n"
     ]
    }
   ],
   "source": [
    "# 3. MEdian orqali\n",
    "\n",
    "df['attack_detected'].fillna(df['attack_detected'].median(),inplace=True)"
   ]
  },
  {
   "cell_type": "code",
   "execution_count": 55,
   "id": "ca118863",
   "metadata": {},
   "outputs": [
    {
     "name": "stderr",
     "output_type": "stream",
     "text": [
      "C:\\Users\\PC\\AppData\\Local\\Temp\\ipykernel_23196\\118409887.py:3: FutureWarning: A value is trying to be set on a copy of a DataFrame or Series through chained assignment using an inplace method.\n",
      "The behavior will change in pandas 3.0. This inplace method will never work because the intermediate object on which we are setting values always behaves as a copy.\n",
      "\n",
      "For example, when doing 'df[col].method(value, inplace=True)', try using 'df.method({col: value}, inplace=True)' or df[col] = df[col].method(value) instead, to perform the operation inplace on the original object.\n",
      "\n",
      "\n",
      "  df['browser_type'].fillna('Chrome',inplace=True)\n"
     ]
    }
   ],
   "source": [
    "# 4.Fixed qiymat bn toldirish\n",
    "\n",
    "df['browser_type'].fillna('Chrome',inplace=True)"
   ]
  },
  {
   "cell_type": "code",
   "execution_count": 56,
   "id": "e12bfb15",
   "metadata": {},
   "outputs": [],
   "source": [
    "# 5.drop.Istalgan ustunni tashlab yuborish\n",
    "\n",
    "df.drop('encryption_used',axis=1, inplace=True)"
   ]
  },
  {
   "cell_type": "code",
   "execution_count": null,
   "id": "d6b136b9",
   "metadata": {},
   "outputs": [
    {
     "name": "stdout",
     "output_type": "stream",
     "text": [
      "<class 'pandas.core.frame.DataFrame'>\n",
      "RangeIndex: 9537 entries, 0 to 9536\n",
      "Data columns (total 10 columns):\n",
      " #   Column               Non-Null Count  Dtype  \n",
      "---  ------               --------------  -----  \n",
      " 0   session_id           9537 non-null   object \n",
      " 1   network_packet_size  9537 non-null   int64  \n",
      " 2   protocol_type        9537 non-null   object \n",
      " 3   login_attempts       9537 non-null   int64  \n",
      " 4   session_duration     9537 non-null   float64\n",
      " 5   ip_reputation_score  9537 non-null   float64\n",
      " 6   failed_logins        9537 non-null   object \n",
      " 7   browser_type         9537 non-null   object \n",
      " 8   unusual_time_access  9537 non-null   float64\n",
      " 9   attack_detected      9537 non-null   float64\n",
      "dtypes: float64(4), int64(2), object(4)\n",
      "memory usage: 745.2+ KB\n"
     ]
    }
   ],
   "source": [
    "df.info()\n"
   ]
  },
  {
   "cell_type": "code",
   "execution_count": null,
   "id": "6016f782",
   "metadata": {},
   "outputs": [],
   "source": []
  }
 ],
 "metadata": {
  "kernelspec": {
   "display_name": "Python 3",
   "language": "python",
   "name": "python3"
  },
  "language_info": {
   "codemirror_mode": {
    "name": "ipython",
    "version": 3
   },
   "file_extension": ".py",
   "mimetype": "text/x-python",
   "name": "python",
   "nbconvert_exporter": "python",
   "pygments_lexer": "ipython3",
   "version": "3.13.5"
  }
 },
 "nbformat": 4,
 "nbformat_minor": 5
}
