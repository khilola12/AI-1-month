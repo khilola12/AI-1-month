{
 "cells": [
  {
   "cell_type": "markdown",
   "id": "c1e50457",
   "metadata": {},
   "source": [
    "# for loop + Scaling + shortcuts"
   ]
  },
  {
   "cell_type": "code",
   "execution_count": 18,
   "id": "c08660e7",
   "metadata": {},
   "outputs": [],
   "source": [
    "import pandas as pd\n",
    "df=pd.read_csv('cards_data.csv')"
   ]
  },
  {
   "cell_type": "code",
   "execution_count": 19,
   "id": "c9ae286a",
   "metadata": {},
   "outputs": [
    {
     "name": "stdout",
     "output_type": "stream",
     "text": [
      "<class 'pandas.core.frame.DataFrame'>\n",
      "RangeIndex: 6128 entries, 0 to 6127\n",
      "Data columns (total 13 columns):\n",
      " #   Column                 Non-Null Count  Dtype  \n",
      "---  ------                 --------------  -----  \n",
      " 0   id                     6128 non-null   int64  \n",
      " 1   client_id              6128 non-null   int64  \n",
      " 2   card_brand             6119 non-null   object \n",
      " 3   card_type              6125 non-null   object \n",
      " 4   card_number            6122 non-null   float64\n",
      " 5   expires                6128 non-null   object \n",
      " 6   cvv                    6128 non-null   int64  \n",
      " 7   has_chip               6124 non-null   object \n",
      " 8   num_cards_issued       6128 non-null   int64  \n",
      " 9   credit_limit           6128 non-null   object \n",
      " 10  acct_open_date         6128 non-null   object \n",
      " 11  year_pin_last_changed  6128 non-null   int64  \n",
      " 12  card_on_dark_web       6118 non-null   object \n",
      "dtypes: float64(1), int64(5), object(7)\n",
      "memory usage: 622.5+ KB\n"
     ]
    },
    {
     "data": {
      "text/html": [
       "<div>\n",
       "<style scoped>\n",
       "    .dataframe tbody tr th:only-of-type {\n",
       "        vertical-align: middle;\n",
       "    }\n",
       "\n",
       "    .dataframe tbody tr th {\n",
       "        vertical-align: top;\n",
       "    }\n",
       "\n",
       "    .dataframe thead th {\n",
       "        text-align: right;\n",
       "    }\n",
       "</style>\n",
       "<table border=\"1\" class=\"dataframe\">\n",
       "  <thead>\n",
       "    <tr style=\"text-align: right;\">\n",
       "      <th></th>\n",
       "      <th>id</th>\n",
       "      <th>client_id</th>\n",
       "      <th>card_brand</th>\n",
       "      <th>card_type</th>\n",
       "      <th>card_number</th>\n",
       "      <th>expires</th>\n",
       "      <th>cvv</th>\n",
       "      <th>has_chip</th>\n",
       "      <th>num_cards_issued</th>\n",
       "      <th>credit_limit</th>\n",
       "      <th>acct_open_date</th>\n",
       "      <th>year_pin_last_changed</th>\n",
       "      <th>card_on_dark_web</th>\n",
       "    </tr>\n",
       "  </thead>\n",
       "  <tbody>\n",
       "    <tr>\n",
       "      <th>0</th>\n",
       "      <td>4524</td>\n",
       "      <td>825</td>\n",
       "      <td>Visa</td>\n",
       "      <td>Debit</td>\n",
       "      <td>4.344677e+15</td>\n",
       "      <td>12/2022</td>\n",
       "      <td>623</td>\n",
       "      <td>YES</td>\n",
       "      <td>2</td>\n",
       "      <td>$24295</td>\n",
       "      <td>09/2002</td>\n",
       "      <td>2008</td>\n",
       "      <td>No</td>\n",
       "    </tr>\n",
       "    <tr>\n",
       "      <th>1</th>\n",
       "      <td>2731</td>\n",
       "      <td>825</td>\n",
       "      <td>Visa</td>\n",
       "      <td>Debit</td>\n",
       "      <td>4.956966e+15</td>\n",
       "      <td>12/2020</td>\n",
       "      <td>393</td>\n",
       "      <td>YES</td>\n",
       "      <td>2</td>\n",
       "      <td>$21968</td>\n",
       "      <td>04/2014</td>\n",
       "      <td>2014</td>\n",
       "      <td>No</td>\n",
       "    </tr>\n",
       "    <tr>\n",
       "      <th>2</th>\n",
       "      <td>3701</td>\n",
       "      <td>825</td>\n",
       "      <td>Visa</td>\n",
       "      <td>Debit</td>\n",
       "      <td>4.582313e+15</td>\n",
       "      <td>02/2024</td>\n",
       "      <td>719</td>\n",
       "      <td>YES</td>\n",
       "      <td>2</td>\n",
       "      <td>$46414</td>\n",
       "      <td>07/2003</td>\n",
       "      <td>2004</td>\n",
       "      <td>No</td>\n",
       "    </tr>\n",
       "    <tr>\n",
       "      <th>3</th>\n",
       "      <td>42</td>\n",
       "      <td>825</td>\n",
       "      <td>Visa</td>\n",
       "      <td>Credit</td>\n",
       "      <td>4.879494e+15</td>\n",
       "      <td>08/2024</td>\n",
       "      <td>693</td>\n",
       "      <td>NO</td>\n",
       "      <td>1</td>\n",
       "      <td>$12400</td>\n",
       "      <td>01/2003</td>\n",
       "      <td>2012</td>\n",
       "      <td>No</td>\n",
       "    </tr>\n",
       "    <tr>\n",
       "      <th>4</th>\n",
       "      <td>4659</td>\n",
       "      <td>825</td>\n",
       "      <td>Mastercard</td>\n",
       "      <td>Debit (Prepaid)</td>\n",
       "      <td>5.722875e+15</td>\n",
       "      <td>03/2009</td>\n",
       "      <td>75</td>\n",
       "      <td>YES</td>\n",
       "      <td>1</td>\n",
       "      <td>$28</td>\n",
       "      <td>09/2008</td>\n",
       "      <td>2009</td>\n",
       "      <td>No</td>\n",
       "    </tr>\n",
       "  </tbody>\n",
       "</table>\n",
       "</div>"
      ],
      "text/plain": [
       "     id  client_id  card_brand        card_type   card_number  expires  cvv  \\\n",
       "0  4524        825        Visa            Debit  4.344677e+15  12/2022  623   \n",
       "1  2731        825        Visa            Debit  4.956966e+15  12/2020  393   \n",
       "2  3701        825        Visa            Debit  4.582313e+15  02/2024  719   \n",
       "3    42        825        Visa           Credit  4.879494e+15  08/2024  693   \n",
       "4  4659        825  Mastercard  Debit (Prepaid)  5.722875e+15  03/2009   75   \n",
       "\n",
       "  has_chip  num_cards_issued credit_limit acct_open_date  \\\n",
       "0      YES                 2       $24295        09/2002   \n",
       "1      YES                 2       $21968        04/2014   \n",
       "2      YES                 2       $46414        07/2003   \n",
       "3       NO                 1       $12400        01/2003   \n",
       "4      YES                 1          $28        09/2008   \n",
       "\n",
       "   year_pin_last_changed card_on_dark_web  \n",
       "0                   2008               No  \n",
       "1                   2014               No  \n",
       "2                   2004               No  \n",
       "3                   2012               No  \n",
       "4                   2009               No  "
      ]
     },
     "execution_count": 19,
     "metadata": {},
     "output_type": "execute_result"
    }
   ],
   "source": [
    "df.info()\n",
    "df.head()"
   ]
  },
  {
   "cell_type": "code",
   "execution_count": 21,
   "id": "ba719fac",
   "metadata": {},
   "outputs": [],
   "source": [
    "# missing values  toldirish\n",
    "\n",
    "\n",
    "for col in df.columns:\n",
    "  if df[col].isnull().any():\n",
    "    if df[col].dtype=='object':\n",
    "      df[col].fillna(df[col].mode(), inplace=True)\n",
    "    else:\n",
    "      df[col].fillna(df[col].mode()[0],inplace=True)\n"
   ]
  },
  {
   "cell_type": "code",
   "execution_count": 22,
   "id": "4370e22c",
   "metadata": {},
   "outputs": [
    {
     "name": "stdout",
     "output_type": "stream",
     "text": [
      "<class 'pandas.core.frame.DataFrame'>\n",
      "RangeIndex: 6128 entries, 0 to 6127\n",
      "Data columns (total 13 columns):\n",
      " #   Column                 Non-Null Count  Dtype  \n",
      "---  ------                 --------------  -----  \n",
      " 0   id                     6128 non-null   int64  \n",
      " 1   client_id              6128 non-null   int64  \n",
      " 2   card_brand             6119 non-null   object \n",
      " 3   card_type              6125 non-null   object \n",
      " 4   card_number            6128 non-null   float64\n",
      " 5   expires                6128 non-null   object \n",
      " 6   cvv                    6128 non-null   int64  \n",
      " 7   has_chip               6124 non-null   object \n",
      " 8   num_cards_issued       6128 non-null   int64  \n",
      " 9   credit_limit           6128 non-null   object \n",
      " 10  acct_open_date         6128 non-null   object \n",
      " 11  year_pin_last_changed  6128 non-null   int64  \n",
      " 12  card_on_dark_web       6118 non-null   object \n",
      "dtypes: float64(1), int64(5), object(7)\n",
      "memory usage: 622.5+ KB\n"
     ]
    },
    {
     "data": {
      "text/plain": [
       "id                       6128\n",
       "client_id                1994\n",
       "card_brand                  7\n",
       "card_type                   4\n",
       "card_number              6122\n",
       "expires                   259\n",
       "cvv                       998\n",
       "has_chip                    2\n",
       "num_cards_issued            3\n",
       "credit_limit             3643\n",
       "acct_open_date            303\n",
       "year_pin_last_changed      19\n",
       "card_on_dark_web            1\n",
       "dtype: int64"
      ]
     },
     "execution_count": 22,
     "metadata": {},
     "output_type": "execute_result"
    }
   ],
   "source": [
    "df.info()\n",
    "df.nunique()"
   ]
  },
  {
   "cell_type": "code",
   "execution_count": 23,
   "id": "2ab123e8",
   "metadata": {},
   "outputs": [],
   "source": [
    "# Encoding\n",
    "\n",
    "from sklearn.preprocessing import LabelEncoder\n",
    "encoder=LabelEncoder()\n",
    "\n",
    "\n",
    "for col in df.columns:\n",
    "  if df[col].dtype=='object':\n",
    "    if df[col].nunique()<=7:\n",
    "      dummies=pd.get_dummies(df[col],prefix=col,dtype=int)\n",
    "      df=pd.concat([df.drop(columns=col),dummies])\n",
    "    else:\n",
    "      df[col]=encoder.fit_transform(df[col])"
   ]
  },
  {
   "cell_type": "code",
   "execution_count": 24,
   "id": "c5e0d9ab",
   "metadata": {},
   "outputs": [
    {
     "name": "stdout",
     "output_type": "stream",
     "text": [
      "<class 'pandas.core.frame.DataFrame'>\n",
      "Index: 98048 entries, 0 to 6127\n",
      "Data columns (total 23 columns):\n",
      " #   Column                     Non-Null Count  Dtype  \n",
      "---  ------                     --------------  -----  \n",
      " 0   id                         6128 non-null   float64\n",
      " 1   client_id                  6128 non-null   float64\n",
      " 2   card_number                6128 non-null   float64\n",
      " 3   expires                    24512 non-null  float64\n",
      " 4   cvv                        6128 non-null   float64\n",
      " 5   num_cards_issued           6128 non-null   float64\n",
      " 6   credit_limit               49024 non-null  float64\n",
      " 7   acct_open_date             49024 non-null  float64\n",
      " 8   year_pin_last_changed      6128 non-null   float64\n",
      " 9   card_brand_Amex            6128 non-null   float64\n",
      " 10  card_brand_Discover        6128 non-null   float64\n",
      " 11  card_brand_Ma              6128 non-null   float64\n",
      " 12  card_brand_Mast            6128 non-null   float64\n",
      " 13  card_brand_Mastercard      6128 non-null   float64\n",
      " 14  card_brand_Visa            6128 non-null   float64\n",
      " 15  card_brand_d               6128 non-null   float64\n",
      " 16  card_type_ (Prepaid)       12256 non-null  float64\n",
      " 17  card_type_Credit           12256 non-null  float64\n",
      " 18  card_type_Debit            12256 non-null  float64\n",
      " 19  card_type_Debit (Prepaid)  12256 non-null  float64\n",
      " 20  has_chip_NO                24512 non-null  float64\n",
      " 21  has_chip_YES               24512 non-null  float64\n",
      " 22  card_on_dark_web_No        49024 non-null  float64\n",
      "dtypes: float64(23)\n",
      "memory usage: 18.0 MB\n"
     ]
    }
   ],
   "source": [
    "df.info()\n"
   ]
  },
  {
   "cell_type": "code",
   "execution_count": 25,
   "id": "31df9108",
   "metadata": {},
   "outputs": [],
   "source": [
    "# Saling (1)\n",
    "\n",
    "from sklearn.preprocessing import MinMaxScaler\n",
    "minmaxscaler=MinMaxScaler()\n",
    "\n",
    "for col in df.columns:                            # barcha columns ga kirib chiq va:\n",
    "  if df[col].dtype!='object':                       # agar dtype object bolmasa:\n",
    "    df[col]=minmaxscaler.fit_transform(df[[col]])      #minmaxscaler [0,1] orqali scaler qilish"
   ]
  },
  {
   "cell_type": "code",
   "execution_count": 26,
   "id": "e7613899",
   "metadata": {},
   "outputs": [
    {
     "data": {
      "text/html": [
       "<div>\n",
       "<style scoped>\n",
       "    .dataframe tbody tr th:only-of-type {\n",
       "        vertical-align: middle;\n",
       "    }\n",
       "\n",
       "    .dataframe tbody tr th {\n",
       "        vertical-align: top;\n",
       "    }\n",
       "\n",
       "    .dataframe thead th {\n",
       "        text-align: right;\n",
       "    }\n",
       "</style>\n",
       "<table border=\"1\" class=\"dataframe\">\n",
       "  <thead>\n",
       "    <tr style=\"text-align: right;\">\n",
       "      <th></th>\n",
       "      <th>id</th>\n",
       "      <th>client_id</th>\n",
       "      <th>card_number</th>\n",
       "      <th>expires</th>\n",
       "      <th>cvv</th>\n",
       "      <th>num_cards_issued</th>\n",
       "      <th>credit_limit</th>\n",
       "      <th>acct_open_date</th>\n",
       "      <th>year_pin_last_changed</th>\n",
       "      <th>card_brand_Amex</th>\n",
       "      <th>...</th>\n",
       "      <th>card_brand_Mastercard</th>\n",
       "      <th>card_brand_Visa</th>\n",
       "      <th>card_brand_d</th>\n",
       "      <th>card_type_ (Prepaid)</th>\n",
       "      <th>card_type_Credit</th>\n",
       "      <th>card_type_Debit</th>\n",
       "      <th>card_type_Debit (Prepaid)</th>\n",
       "      <th>has_chip_NO</th>\n",
       "      <th>has_chip_YES</th>\n",
       "      <th>card_on_dark_web_No</th>\n",
       "    </tr>\n",
       "  </thead>\n",
       "  <tbody>\n",
       "    <tr>\n",
       "      <th>0</th>\n",
       "      <td>0.736208</td>\n",
       "      <td>0.412706</td>\n",
       "      <td>0.603929</td>\n",
       "      <td>0.988417</td>\n",
       "      <td>0.623624</td>\n",
       "      <td>0.5</td>\n",
       "      <td>0.575350</td>\n",
       "      <td>0.683168</td>\n",
       "      <td>0.333333</td>\n",
       "      <td>NaN</td>\n",
       "      <td>...</td>\n",
       "      <td>NaN</td>\n",
       "      <td>NaN</td>\n",
       "      <td>NaN</td>\n",
       "      <td>NaN</td>\n",
       "      <td>NaN</td>\n",
       "      <td>NaN</td>\n",
       "      <td>NaN</td>\n",
       "      <td>NaN</td>\n",
       "      <td>NaN</td>\n",
       "      <td>NaN</td>\n",
       "    </tr>\n",
       "    <tr>\n",
       "      <th>1</th>\n",
       "      <td>0.444426</td>\n",
       "      <td>0.412706</td>\n",
       "      <td>0.695356</td>\n",
       "      <td>0.980695</td>\n",
       "      <td>0.393393</td>\n",
       "      <td>0.5</td>\n",
       "      <td>0.508921</td>\n",
       "      <td>0.316832</td>\n",
       "      <td>0.666667</td>\n",
       "      <td>NaN</td>\n",
       "      <td>...</td>\n",
       "      <td>NaN</td>\n",
       "      <td>NaN</td>\n",
       "      <td>NaN</td>\n",
       "      <td>NaN</td>\n",
       "      <td>NaN</td>\n",
       "      <td>NaN</td>\n",
       "      <td>NaN</td>\n",
       "      <td>NaN</td>\n",
       "      <td>NaN</td>\n",
       "      <td>NaN</td>\n",
       "    </tr>\n",
       "    <tr>\n",
       "      <th>2</th>\n",
       "      <td>0.602278</td>\n",
       "      <td>0.412706</td>\n",
       "      <td>0.639413</td>\n",
       "      <td>0.154440</td>\n",
       "      <td>0.719720</td>\n",
       "      <td>0.5</td>\n",
       "      <td>0.828164</td>\n",
       "      <td>0.511551</td>\n",
       "      <td>0.111111</td>\n",
       "      <td>NaN</td>\n",
       "      <td>...</td>\n",
       "      <td>NaN</td>\n",
       "      <td>NaN</td>\n",
       "      <td>NaN</td>\n",
       "      <td>NaN</td>\n",
       "      <td>NaN</td>\n",
       "      <td>NaN</td>\n",
       "      <td>NaN</td>\n",
       "      <td>NaN</td>\n",
       "      <td>NaN</td>\n",
       "      <td>NaN</td>\n",
       "    </tr>\n",
       "    <tr>\n",
       "      <th>3</th>\n",
       "      <td>0.006835</td>\n",
       "      <td>0.412706</td>\n",
       "      <td>0.683788</td>\n",
       "      <td>0.644788</td>\n",
       "      <td>0.693694</td>\n",
       "      <td>0.0</td>\n",
       "      <td>0.104859</td>\n",
       "      <td>0.029703</td>\n",
       "      <td>0.555556</td>\n",
       "      <td>NaN</td>\n",
       "      <td>...</td>\n",
       "      <td>NaN</td>\n",
       "      <td>NaN</td>\n",
       "      <td>NaN</td>\n",
       "      <td>NaN</td>\n",
       "      <td>NaN</td>\n",
       "      <td>NaN</td>\n",
       "      <td>NaN</td>\n",
       "      <td>NaN</td>\n",
       "      <td>NaN</td>\n",
       "      <td>NaN</td>\n",
       "    </tr>\n",
       "    <tr>\n",
       "      <th>4</th>\n",
       "      <td>0.758177</td>\n",
       "      <td>0.412706</td>\n",
       "      <td>0.809720</td>\n",
       "      <td>0.181467</td>\n",
       "      <td>0.075075</td>\n",
       "      <td>0.0</td>\n",
       "      <td>0.660170</td>\n",
       "      <td>0.702970</td>\n",
       "      <td>0.388889</td>\n",
       "      <td>NaN</td>\n",
       "      <td>...</td>\n",
       "      <td>NaN</td>\n",
       "      <td>NaN</td>\n",
       "      <td>NaN</td>\n",
       "      <td>NaN</td>\n",
       "      <td>NaN</td>\n",
       "      <td>NaN</td>\n",
       "      <td>NaN</td>\n",
       "      <td>NaN</td>\n",
       "      <td>NaN</td>\n",
       "      <td>NaN</td>\n",
       "    </tr>\n",
       "  </tbody>\n",
       "</table>\n",
       "<p>5 rows × 23 columns</p>\n",
       "</div>"
      ],
      "text/plain": [
       "         id  client_id  card_number   expires       cvv  num_cards_issued  \\\n",
       "0  0.736208   0.412706     0.603929  0.988417  0.623624               0.5   \n",
       "1  0.444426   0.412706     0.695356  0.980695  0.393393               0.5   \n",
       "2  0.602278   0.412706     0.639413  0.154440  0.719720               0.5   \n",
       "3  0.006835   0.412706     0.683788  0.644788  0.693694               0.0   \n",
       "4  0.758177   0.412706     0.809720  0.181467  0.075075               0.0   \n",
       "\n",
       "   credit_limit  acct_open_date  year_pin_last_changed  card_brand_Amex  ...  \\\n",
       "0      0.575350        0.683168               0.333333              NaN  ...   \n",
       "1      0.508921        0.316832               0.666667              NaN  ...   \n",
       "2      0.828164        0.511551               0.111111              NaN  ...   \n",
       "3      0.104859        0.029703               0.555556              NaN  ...   \n",
       "4      0.660170        0.702970               0.388889              NaN  ...   \n",
       "\n",
       "   card_brand_Mastercard  card_brand_Visa  card_brand_d  card_type_ (Prepaid)  \\\n",
       "0                    NaN              NaN           NaN                   NaN   \n",
       "1                    NaN              NaN           NaN                   NaN   \n",
       "2                    NaN              NaN           NaN                   NaN   \n",
       "3                    NaN              NaN           NaN                   NaN   \n",
       "4                    NaN              NaN           NaN                   NaN   \n",
       "\n",
       "   card_type_Credit  card_type_Debit  card_type_Debit (Prepaid)  has_chip_NO  \\\n",
       "0               NaN              NaN                        NaN          NaN   \n",
       "1               NaN              NaN                        NaN          NaN   \n",
       "2               NaN              NaN                        NaN          NaN   \n",
       "3               NaN              NaN                        NaN          NaN   \n",
       "4               NaN              NaN                        NaN          NaN   \n",
       "\n",
       "   has_chip_YES  card_on_dark_web_No  \n",
       "0           NaN                  NaN  \n",
       "1           NaN                  NaN  \n",
       "2           NaN                  NaN  \n",
       "3           NaN                  NaN  \n",
       "4           NaN                  NaN  \n",
       "\n",
       "[5 rows x 23 columns]"
      ]
     },
     "execution_count": 26,
     "metadata": {},
     "output_type": "execute_result"
    }
   ],
   "source": [
    "df.head()"
   ]
  },
  {
   "cell_type": "code",
   "execution_count": null,
   "id": "c84dce7f",
   "metadata": {},
   "outputs": [],
   "source": [
    "# Scaling (2)\n",
    "# for loop ni ishlatmasdan scaling qilish usuli\n",
    "\n",
    "\n",
    "num_col=df.select_dtypes(include=['int64', 'float64']).columns  #<-- columns ni yozishdan maqsad faqat ustunlar nomini ajratib olish uchun\n",
    "df[num_col]=minmaxscaler.fit_transform(df[num_col])"
   ]
  },
  {
   "cell_type": "code",
   "execution_count": 30,
   "id": "4ea50b5e",
   "metadata": {},
   "outputs": [
    {
     "data": {
      "text/html": [
       "<div>\n",
       "<style scoped>\n",
       "    .dataframe tbody tr th:only-of-type {\n",
       "        vertical-align: middle;\n",
       "    }\n",
       "\n",
       "    .dataframe tbody tr th {\n",
       "        vertical-align: top;\n",
       "    }\n",
       "\n",
       "    .dataframe thead th {\n",
       "        text-align: right;\n",
       "    }\n",
       "</style>\n",
       "<table border=\"1\" class=\"dataframe\">\n",
       "  <thead>\n",
       "    <tr style=\"text-align: right;\">\n",
       "      <th></th>\n",
       "      <th>id</th>\n",
       "      <th>client_id</th>\n",
       "      <th>card_number</th>\n",
       "      <th>expires</th>\n",
       "      <th>cvv</th>\n",
       "      <th>num_cards_issued</th>\n",
       "      <th>credit_limit</th>\n",
       "      <th>acct_open_date</th>\n",
       "      <th>year_pin_last_changed</th>\n",
       "      <th>card_brand_Amex</th>\n",
       "      <th>...</th>\n",
       "      <th>card_brand_Mastercard</th>\n",
       "      <th>card_brand_Visa</th>\n",
       "      <th>card_brand_d</th>\n",
       "      <th>card_type_ (Prepaid)</th>\n",
       "      <th>card_type_Credit</th>\n",
       "      <th>card_type_Debit</th>\n",
       "      <th>card_type_Debit (Prepaid)</th>\n",
       "      <th>has_chip_NO</th>\n",
       "      <th>has_chip_YES</th>\n",
       "      <th>card_on_dark_web_No</th>\n",
       "    </tr>\n",
       "  </thead>\n",
       "  <tbody>\n",
       "    <tr>\n",
       "      <th>0</th>\n",
       "      <td>0.736208</td>\n",
       "      <td>0.412706</td>\n",
       "      <td>0.603929</td>\n",
       "      <td>0.988417</td>\n",
       "      <td>0.623624</td>\n",
       "      <td>0.5</td>\n",
       "      <td>0.575350</td>\n",
       "      <td>0.683168</td>\n",
       "      <td>0.333333</td>\n",
       "      <td>NaN</td>\n",
       "      <td>...</td>\n",
       "      <td>NaN</td>\n",
       "      <td>NaN</td>\n",
       "      <td>NaN</td>\n",
       "      <td>NaN</td>\n",
       "      <td>NaN</td>\n",
       "      <td>NaN</td>\n",
       "      <td>NaN</td>\n",
       "      <td>NaN</td>\n",
       "      <td>NaN</td>\n",
       "      <td>NaN</td>\n",
       "    </tr>\n",
       "    <tr>\n",
       "      <th>1</th>\n",
       "      <td>0.444426</td>\n",
       "      <td>0.412706</td>\n",
       "      <td>0.695356</td>\n",
       "      <td>0.980695</td>\n",
       "      <td>0.393393</td>\n",
       "      <td>0.5</td>\n",
       "      <td>0.508921</td>\n",
       "      <td>0.316832</td>\n",
       "      <td>0.666667</td>\n",
       "      <td>NaN</td>\n",
       "      <td>...</td>\n",
       "      <td>NaN</td>\n",
       "      <td>NaN</td>\n",
       "      <td>NaN</td>\n",
       "      <td>NaN</td>\n",
       "      <td>NaN</td>\n",
       "      <td>NaN</td>\n",
       "      <td>NaN</td>\n",
       "      <td>NaN</td>\n",
       "      <td>NaN</td>\n",
       "      <td>NaN</td>\n",
       "    </tr>\n",
       "    <tr>\n",
       "      <th>2</th>\n",
       "      <td>0.602278</td>\n",
       "      <td>0.412706</td>\n",
       "      <td>0.639413</td>\n",
       "      <td>0.154440</td>\n",
       "      <td>0.719720</td>\n",
       "      <td>0.5</td>\n",
       "      <td>0.828164</td>\n",
       "      <td>0.511551</td>\n",
       "      <td>0.111111</td>\n",
       "      <td>NaN</td>\n",
       "      <td>...</td>\n",
       "      <td>NaN</td>\n",
       "      <td>NaN</td>\n",
       "      <td>NaN</td>\n",
       "      <td>NaN</td>\n",
       "      <td>NaN</td>\n",
       "      <td>NaN</td>\n",
       "      <td>NaN</td>\n",
       "      <td>NaN</td>\n",
       "      <td>NaN</td>\n",
       "      <td>NaN</td>\n",
       "    </tr>\n",
       "    <tr>\n",
       "      <th>3</th>\n",
       "      <td>0.006835</td>\n",
       "      <td>0.412706</td>\n",
       "      <td>0.683788</td>\n",
       "      <td>0.644788</td>\n",
       "      <td>0.693694</td>\n",
       "      <td>0.0</td>\n",
       "      <td>0.104859</td>\n",
       "      <td>0.029703</td>\n",
       "      <td>0.555556</td>\n",
       "      <td>NaN</td>\n",
       "      <td>...</td>\n",
       "      <td>NaN</td>\n",
       "      <td>NaN</td>\n",
       "      <td>NaN</td>\n",
       "      <td>NaN</td>\n",
       "      <td>NaN</td>\n",
       "      <td>NaN</td>\n",
       "      <td>NaN</td>\n",
       "      <td>NaN</td>\n",
       "      <td>NaN</td>\n",
       "      <td>NaN</td>\n",
       "    </tr>\n",
       "    <tr>\n",
       "      <th>4</th>\n",
       "      <td>0.758177</td>\n",
       "      <td>0.412706</td>\n",
       "      <td>0.809720</td>\n",
       "      <td>0.181467</td>\n",
       "      <td>0.075075</td>\n",
       "      <td>0.0</td>\n",
       "      <td>0.660170</td>\n",
       "      <td>0.702970</td>\n",
       "      <td>0.388889</td>\n",
       "      <td>NaN</td>\n",
       "      <td>...</td>\n",
       "      <td>NaN</td>\n",
       "      <td>NaN</td>\n",
       "      <td>NaN</td>\n",
       "      <td>NaN</td>\n",
       "      <td>NaN</td>\n",
       "      <td>NaN</td>\n",
       "      <td>NaN</td>\n",
       "      <td>NaN</td>\n",
       "      <td>NaN</td>\n",
       "      <td>NaN</td>\n",
       "    </tr>\n",
       "  </tbody>\n",
       "</table>\n",
       "<p>5 rows × 23 columns</p>\n",
       "</div>"
      ],
      "text/plain": [
       "         id  client_id  card_number   expires       cvv  num_cards_issued  \\\n",
       "0  0.736208   0.412706     0.603929  0.988417  0.623624               0.5   \n",
       "1  0.444426   0.412706     0.695356  0.980695  0.393393               0.5   \n",
       "2  0.602278   0.412706     0.639413  0.154440  0.719720               0.5   \n",
       "3  0.006835   0.412706     0.683788  0.644788  0.693694               0.0   \n",
       "4  0.758177   0.412706     0.809720  0.181467  0.075075               0.0   \n",
       "\n",
       "   credit_limit  acct_open_date  year_pin_last_changed  card_brand_Amex  ...  \\\n",
       "0      0.575350        0.683168               0.333333              NaN  ...   \n",
       "1      0.508921        0.316832               0.666667              NaN  ...   \n",
       "2      0.828164        0.511551               0.111111              NaN  ...   \n",
       "3      0.104859        0.029703               0.555556              NaN  ...   \n",
       "4      0.660170        0.702970               0.388889              NaN  ...   \n",
       "\n",
       "   card_brand_Mastercard  card_brand_Visa  card_brand_d  card_type_ (Prepaid)  \\\n",
       "0                    NaN              NaN           NaN                   NaN   \n",
       "1                    NaN              NaN           NaN                   NaN   \n",
       "2                    NaN              NaN           NaN                   NaN   \n",
       "3                    NaN              NaN           NaN                   NaN   \n",
       "4                    NaN              NaN           NaN                   NaN   \n",
       "\n",
       "   card_type_Credit  card_type_Debit  card_type_Debit (Prepaid)  has_chip_NO  \\\n",
       "0               NaN              NaN                        NaN          NaN   \n",
       "1               NaN              NaN                        NaN          NaN   \n",
       "2               NaN              NaN                        NaN          NaN   \n",
       "3               NaN              NaN                        NaN          NaN   \n",
       "4               NaN              NaN                        NaN          NaN   \n",
       "\n",
       "   has_chip_YES  card_on_dark_web_No  \n",
       "0           NaN                  NaN  \n",
       "1           NaN                  NaN  \n",
       "2           NaN                  NaN  \n",
       "3           NaN                  NaN  \n",
       "4           NaN                  NaN  \n",
       "\n",
       "[5 rows x 23 columns]"
      ]
     },
     "execution_count": 30,
     "metadata": {},
     "output_type": "execute_result"
    }
   ],
   "source": [
    "df.head()"
   ]
  },
  {
   "cell_type": "code",
   "execution_count": 33,
   "id": "f14c6cc3",
   "metadata": {},
   "outputs": [],
   "source": [
    "# Shortcuts  bir nechta sozni birvaqtda birga ozzgartirish uchun --> block ga olish --> CTRL+F2"
   ]
  },
  {
   "cell_type": "markdown",
   "id": "28a9f589",
   "metadata": {},
   "source": [
    "# Nested If"
   ]
  },
  {
   "cell_type": "code",
   "execution_count": 34,
   "id": "3a0003d5",
   "metadata": {},
   "outputs": [
    {
     "name": "stdout",
     "output_type": "stream",
     "text": [
      "OK\n"
     ]
    }
   ],
   "source": [
    "# Agar son 2 ga bolinsa OK aks holda Xato degan sozni ekranga chiqaring.\n",
    "\n",
    "a=int(input('sonni kiriting'))\n",
    "if a>0:\n",
    "  if a%2==0:\n",
    "    print('OK')\n",
    "  else:\n",
    "    print('Xato')"
   ]
  },
  {
   "cell_type": "code",
   "execution_count": 37,
   "id": "239de903",
   "metadata": {},
   "outputs": [
    {
     "name": "stdout",
     "output_type": "stream",
     "text": [
      "Xato\n"
     ]
    }
   ],
   "source": [
    "a=int(input('sonni kiriting'))\n",
    "if a>0 and a%2==0:\n",
    "    print('OK')\n",
    "else:\n",
    "    print('Xato')"
   ]
  },
  {
   "cell_type": "markdown",
   "id": "bc6ade8b",
   "metadata": {},
   "source": [
    "# List Comprehension\n",
    "-Bu bitta qatorda soddaroq hal qilish"
   ]
  },
  {
   "cell_type": "code",
   "execution_count": 63,
   "id": "3f9cd9d1",
   "metadata": {},
   "outputs": [],
   "source": [
    "# “comprehension” sozi 'tushuncha, ichki mazmun' degan manoda ishlatiladi, Python-da esa bir qator ichida yangi list yaratish usulini bildiradi."
   ]
  },
  {
   "cell_type": "code",
   "execution_count": 53,
   "id": "18442963",
   "metadata": {},
   "outputs": [
    {
     "data": {
      "text/plain": [
       "list"
      ]
     },
     "execution_count": 53,
     "metadata": {},
     "output_type": "execute_result"
    }
   ],
   "source": [
    "a=[1,2,3,4,5]\n",
    "type(a)"
   ]
  },
  {
   "cell_type": "code",
   "execution_count": 54,
   "id": "ed473f4a",
   "metadata": {},
   "outputs": [
    {
     "data": {
      "text/plain": [
       "set"
      ]
     },
     "execution_count": 54,
     "metadata": {},
     "output_type": "execute_result"
    }
   ],
   "source": [
    "b={1,2,3,4,5}\n",
    "type(b)"
   ]
  },
  {
   "cell_type": "code",
   "execution_count": 55,
   "id": "a096e967",
   "metadata": {},
   "outputs": [
    {
     "data": {
      "text/plain": [
       "tuple"
      ]
     },
     "execution_count": 55,
     "metadata": {},
     "output_type": "execute_result"
    }
   ],
   "source": [
    "c=(1,2,3,4,5)\n",
    "type(c)"
   ]
  },
  {
   "cell_type": "code",
   "execution_count": 56,
   "id": "b3847283",
   "metadata": {},
   "outputs": [
    {
     "name": "stdout",
     "output_type": "stream",
     "text": [
      "1\n",
      "2\n",
      "3\n",
      "4\n",
      "5\n",
      "6\n",
      "7\n",
      "8\n",
      "9\n"
     ]
    }
   ],
   "source": [
    "for i in range(1,10):\n",
    "  print(i)"
   ]
  },
  {
   "cell_type": "code",
   "execution_count": 57,
   "id": "1f3b6b53",
   "metadata": {},
   "outputs": [
    {
     "data": {
      "text/plain": [
       "[1, 2, 3, 4, 5, 6, 7, 8, 9]"
      ]
     },
     "execution_count": 57,
     "metadata": {},
     "output_type": "execute_result"
    }
   ],
   "source": [
    "[i for i in range(1,10)]"
   ]
  },
  {
   "cell_type": "code",
   "execution_count": 58,
   "id": "b135f33e",
   "metadata": {},
   "outputs": [
    {
     "name": "stdout",
     "output_type": "stream",
     "text": [
      "2\n",
      "4\n",
      "6\n",
      "8\n",
      "10\n",
      "12\n",
      "14\n"
     ]
    }
   ],
   "source": [
    "for i in range(1,15):\n",
    "  if i%2==0:\n",
    "    print(i)"
   ]
  },
  {
   "cell_type": "code",
   "execution_count": 59,
   "id": "2490ed8c",
   "metadata": {},
   "outputs": [
    {
     "data": {
      "text/plain": [
       "[2, 4, 6, 8, 10, 12, 14]"
      ]
     },
     "execution_count": 59,
     "metadata": {},
     "output_type": "execute_result"
    }
   ],
   "source": [
    "[i for i in range(1,15) if i%2==0]"
   ]
  },
  {
   "cell_type": "code",
   "execution_count": null,
   "id": "a049d008",
   "metadata": {},
   "outputs": [
    {
     "data": {
      "text/plain": [
       "['toq',\n",
       " 'juft',\n",
       " 'toq',\n",
       " 'juft',\n",
       " 'toq',\n",
       " 'juft',\n",
       " 'toq',\n",
       " 'juft',\n",
       " 'toq',\n",
       " 'juft',\n",
       " 'toq',\n",
       " 'juft',\n",
       " 'toq',\n",
       " 'juft']"
      ]
     },
     "execution_count": 61,
     "metadata": {},
     "output_type": "execute_result"
    }
   ],
   "source": [
    "['juft' if i%2==0 else 'toq' for i in range(1,15)]\n"
   ]
  },
  {
   "cell_type": "code",
   "execution_count": 62,
   "id": "ac8892c5",
   "metadata": {},
   "outputs": [],
   "source": [
    "#List Comprehension da elif amali ishlamaydi!"
   ]
  },
  {
   "cell_type": "code",
   "execution_count": 64,
   "id": "14500f04",
   "metadata": {},
   "outputs": [
    {
     "data": {
      "text/plain": [
       "['manfiy',\n",
       " 'manfiy',\n",
       " 'manfiy',\n",
       " 'manfiy',\n",
       " 'manfiy',\n",
       " 'musbat',\n",
       " 'musbat',\n",
       " 'musbat',\n",
       " 'musbat']"
      ]
     },
     "execution_count": 64,
     "metadata": {},
     "output_type": "execute_result"
    }
   ],
   "source": [
    "['musbat' if i>0 else 'manfiy' for i in range(-4,5)]"
   ]
  },
  {
   "cell_type": "code",
   "execution_count": 65,
   "id": "2fe457f4",
   "metadata": {},
   "outputs": [
    {
     "data": {
      "text/plain": [
       "['manfiy',\n",
       " 'manfiy',\n",
       " 'manfiy',\n",
       " 'manfiy',\n",
       " 'nol',\n",
       " 'musbat',\n",
       " 'musbat',\n",
       " 'musbat',\n",
       " 'musbat']"
      ]
     },
     "execution_count": 65,
     "metadata": {},
     "output_type": "execute_result"
    }
   ],
   "source": [
    "['musbat' if i>0 else ('manfiy' if i<0 else 'nol')for i in range(-4,5)]"
   ]
  },
  {
   "cell_type": "code",
   "execution_count": null,
   "id": "6808f80d",
   "metadata": {},
   "outputs": [],
   "source": []
  },
  {
   "cell_type": "markdown",
   "id": "0139ce6b",
   "metadata": {},
   "source": [
    "# Vazifa\n",
    " 1.Dataset topib datapreprocessing qilish, 2.Boshqalarni projectidan organish, 3.misollarni bajarish."
   ]
  },
  {
   "cell_type": "code",
   "execution_count": 50,
   "id": "e6eb5eb0",
   "metadata": {},
   "outputs": [
    {
     "name": "stdout",
     "output_type": "stream",
     "text": [
      "<class 'pandas.core.frame.DataFrame'>\n",
      "RangeIndex: 4238 entries, 0 to 4237\n",
      "Data columns (total 16 columns):\n",
      " #   Column           Non-Null Count  Dtype  \n",
      "---  ------           --------------  -----  \n",
      " 0   Gender           4227 non-null   object \n",
      " 1   age              4238 non-null   int64  \n",
      " 2   education        4120 non-null   object \n",
      " 3   currentSmoker    4238 non-null   int64  \n",
      " 4   cigsPerDay       4209 non-null   float64\n",
      " 5   BPMeds           4176 non-null   float64\n",
      " 6   prevalentStroke  4238 non-null   object \n",
      " 7   prevalentHyp     4238 non-null   int64  \n",
      " 8   diabetes         4238 non-null   int64  \n",
      " 9   totChol          4173 non-null   float64\n",
      " 10  sysBP            4232 non-null   float64\n",
      " 11  diaBP            4238 non-null   float64\n",
      " 12  BMI              4219 non-null   float64\n",
      " 13  heartRate        4237 non-null   float64\n",
      " 14  glucose          3850 non-null   float64\n",
      " 15  Heart_ stroke    4238 non-null   object \n",
      "dtypes: float64(8), int64(4), object(4)\n",
      "memory usage: 529.9+ KB\n"
     ]
    },
    {
     "data": {
      "text/html": [
       "<div>\n",
       "<style scoped>\n",
       "    .dataframe tbody tr th:only-of-type {\n",
       "        vertical-align: middle;\n",
       "    }\n",
       "\n",
       "    .dataframe tbody tr th {\n",
       "        vertical-align: top;\n",
       "    }\n",
       "\n",
       "    .dataframe thead th {\n",
       "        text-align: right;\n",
       "    }\n",
       "</style>\n",
       "<table border=\"1\" class=\"dataframe\">\n",
       "  <thead>\n",
       "    <tr style=\"text-align: right;\">\n",
       "      <th></th>\n",
       "      <th>Gender</th>\n",
       "      <th>age</th>\n",
       "      <th>education</th>\n",
       "      <th>currentSmoker</th>\n",
       "      <th>cigsPerDay</th>\n",
       "      <th>BPMeds</th>\n",
       "      <th>prevalentStroke</th>\n",
       "      <th>prevalentHyp</th>\n",
       "      <th>diabetes</th>\n",
       "      <th>totChol</th>\n",
       "      <th>sysBP</th>\n",
       "      <th>diaBP</th>\n",
       "      <th>BMI</th>\n",
       "      <th>heartRate</th>\n",
       "      <th>glucose</th>\n",
       "      <th>Heart_ stroke</th>\n",
       "    </tr>\n",
       "  </thead>\n",
       "  <tbody>\n",
       "    <tr>\n",
       "      <th>0</th>\n",
       "      <td>Male</td>\n",
       "      <td>39</td>\n",
       "      <td>postgraduate</td>\n",
       "      <td>0</td>\n",
       "      <td>0.0</td>\n",
       "      <td>0.0</td>\n",
       "      <td>no</td>\n",
       "      <td>0</td>\n",
       "      <td>0</td>\n",
       "      <td>195.0</td>\n",
       "      <td>106.0</td>\n",
       "      <td>70.0</td>\n",
       "      <td>26.97</td>\n",
       "      <td>80.0</td>\n",
       "      <td>77.0</td>\n",
       "      <td>No</td>\n",
       "    </tr>\n",
       "    <tr>\n",
       "      <th>1</th>\n",
       "      <td>Female</td>\n",
       "      <td>46</td>\n",
       "      <td>primaryschool</td>\n",
       "      <td>0</td>\n",
       "      <td>0.0</td>\n",
       "      <td>0.0</td>\n",
       "      <td>no</td>\n",
       "      <td>0</td>\n",
       "      <td>0</td>\n",
       "      <td>250.0</td>\n",
       "      <td>121.0</td>\n",
       "      <td>81.0</td>\n",
       "      <td>28.73</td>\n",
       "      <td>95.0</td>\n",
       "      <td>76.0</td>\n",
       "      <td>No</td>\n",
       "    </tr>\n",
       "    <tr>\n",
       "      <th>2</th>\n",
       "      <td>Male</td>\n",
       "      <td>48</td>\n",
       "      <td>uneducated</td>\n",
       "      <td>1</td>\n",
       "      <td>20.0</td>\n",
       "      <td>0.0</td>\n",
       "      <td>no</td>\n",
       "      <td>0</td>\n",
       "      <td>0</td>\n",
       "      <td>245.0</td>\n",
       "      <td>127.5</td>\n",
       "      <td>80.0</td>\n",
       "      <td>25.34</td>\n",
       "      <td>75.0</td>\n",
       "      <td>70.0</td>\n",
       "      <td>No</td>\n",
       "    </tr>\n",
       "    <tr>\n",
       "      <th>3</th>\n",
       "      <td>Female</td>\n",
       "      <td>61</td>\n",
       "      <td>graduate</td>\n",
       "      <td>1</td>\n",
       "      <td>30.0</td>\n",
       "      <td>0.0</td>\n",
       "      <td>no</td>\n",
       "      <td>1</td>\n",
       "      <td>0</td>\n",
       "      <td>225.0</td>\n",
       "      <td>150.0</td>\n",
       "      <td>95.0</td>\n",
       "      <td>28.58</td>\n",
       "      <td>65.0</td>\n",
       "      <td>103.0</td>\n",
       "      <td>yes</td>\n",
       "    </tr>\n",
       "    <tr>\n",
       "      <th>4</th>\n",
       "      <td>Female</td>\n",
       "      <td>46</td>\n",
       "      <td>graduate</td>\n",
       "      <td>1</td>\n",
       "      <td>23.0</td>\n",
       "      <td>0.0</td>\n",
       "      <td>no</td>\n",
       "      <td>0</td>\n",
       "      <td>0</td>\n",
       "      <td>285.0</td>\n",
       "      <td>130.0</td>\n",
       "      <td>84.0</td>\n",
       "      <td>23.10</td>\n",
       "      <td>85.0</td>\n",
       "      <td>85.0</td>\n",
       "      <td>No</td>\n",
       "    </tr>\n",
       "  </tbody>\n",
       "</table>\n",
       "</div>"
      ],
      "text/plain": [
       "   Gender  age      education  currentSmoker  cigsPerDay  BPMeds  \\\n",
       "0    Male   39   postgraduate              0         0.0     0.0   \n",
       "1  Female   46  primaryschool              0         0.0     0.0   \n",
       "2    Male   48     uneducated              1        20.0     0.0   \n",
       "3  Female   61       graduate              1        30.0     0.0   \n",
       "4  Female   46       graduate              1        23.0     0.0   \n",
       "\n",
       "  prevalentStroke  prevalentHyp  diabetes  totChol  sysBP  diaBP    BMI  \\\n",
       "0              no             0         0    195.0  106.0   70.0  26.97   \n",
       "1              no             0         0    250.0  121.0   81.0  28.73   \n",
       "2              no             0         0    245.0  127.5   80.0  25.34   \n",
       "3              no             1         0    225.0  150.0   95.0  28.58   \n",
       "4              no             0         0    285.0  130.0   84.0  23.10   \n",
       "\n",
       "   heartRate  glucose Heart_ stroke  \n",
       "0       80.0     77.0            No  \n",
       "1       95.0     76.0            No  \n",
       "2       75.0     70.0            No  \n",
       "3       65.0    103.0           yes  \n",
       "4       85.0     85.0            No  "
      ]
     },
     "execution_count": 50,
     "metadata": {},
     "output_type": "execute_result"
    }
   ],
   "source": [
    "df=pd.read_csv('heart_disease.csv')\n",
    "df.info()\n",
    "df.head()"
   ]
  },
  {
   "cell_type": "code",
   "execution_count": null,
   "id": "8d3f2420",
   "metadata": {},
   "outputs": [],
   "source": [
    "#1. Missing values toldirish\n",
    "\n",
    "for col_name in df.columns:\n",
    "    if df[col_name].isnull().any():\n",
    "        if df[col_name].dtype=='object':\n",
    "            df[col_name].fillna(df[col_name].mode()[0],inplace=True)\n",
    "        else:\n",
    "            df[col_name].fillna(df[col_name].mean(),inplace=True)\n"
   ]
  },
  {
   "cell_type": "code",
   "execution_count": 43,
   "id": "a3ec8fc0",
   "metadata": {},
   "outputs": [
    {
     "name": "stdout",
     "output_type": "stream",
     "text": [
      "<class 'pandas.core.frame.DataFrame'>\n",
      "RangeIndex: 4238 entries, 0 to 4237\n",
      "Data columns (total 16 columns):\n",
      " #   Column           Non-Null Count  Dtype  \n",
      "---  ------           --------------  -----  \n",
      " 0   Gender           4238 non-null   object \n",
      " 1   age              4238 non-null   int64  \n",
      " 2   education        4238 non-null   object \n",
      " 3   currentSmoker    4238 non-null   int64  \n",
      " 4   cigsPerDay       4238 non-null   float64\n",
      " 5   BPMeds           4238 non-null   float64\n",
      " 6   prevalentStroke  4238 non-null   object \n",
      " 7   prevalentHyp     4238 non-null   int64  \n",
      " 8   diabetes         4238 non-null   int64  \n",
      " 9   totChol          4238 non-null   float64\n",
      " 10  sysBP            4238 non-null   float64\n",
      " 11  diaBP            4238 non-null   float64\n",
      " 12  BMI              4238 non-null   float64\n",
      " 13  heartRate        4238 non-null   float64\n",
      " 14  glucose          4238 non-null   float64\n",
      " 15  Heart_ stroke    4238 non-null   object \n",
      "dtypes: float64(8), int64(4), object(4)\n",
      "memory usage: 529.9+ KB\n"
     ]
    }
   ],
   "source": [
    "df.info()"
   ]
  },
  {
   "cell_type": "code",
   "execution_count": 44,
   "id": "cd41e794",
   "metadata": {},
   "outputs": [
    {
     "data": {
      "text/plain": [
       "Gender                2\n",
       "age                  39\n",
       "education             4\n",
       "currentSmoker         2\n",
       "cigsPerDay           34\n",
       "BPMeds                3\n",
       "prevalentStroke       2\n",
       "prevalentHyp          2\n",
       "diabetes              2\n",
       "totChol             250\n",
       "sysBP               236\n",
       "diaBP               146\n",
       "BMI                1364\n",
       "heartRate            74\n",
       "glucose             144\n",
       "Heart_ stroke         2\n",
       "dtype: int64"
      ]
     },
     "execution_count": 44,
     "metadata": {},
     "output_type": "execute_result"
    }
   ],
   "source": [
    "df.nunique()"
   ]
  },
  {
   "cell_type": "code",
   "execution_count": 46,
   "id": "11396e96",
   "metadata": {},
   "outputs": [],
   "source": [
    "# Encoding\n",
    "\n",
    "from sklearn.preprocessing import LabelEncoder\n",
    "encoder=LabelEncoder()\n",
    "\n",
    "for col_name in df.columns:\n",
    "    if df[col_name].dtype=='object':\n",
    "        if df[col_name].nunique()<=4:\n",
    "            dummies=pd.get_dummies(df[col_name],prefix=col_name,dtype=int)\n",
    "            df=pd.concat([df.drop(columns=col_name),dummies])\n",
    "        else:\n",
    "            df[col_name]=encoder.fit_transform(df[col_name])"
   ]
  },
  {
   "cell_type": "code",
   "execution_count": 47,
   "id": "c14d66aa",
   "metadata": {},
   "outputs": [
    {
     "name": "stdout",
     "output_type": "stream",
     "text": [
      "<class 'pandas.core.frame.DataFrame'>\n",
      "Index: 67808 entries, 0 to 4237\n",
      "Data columns (total 22 columns):\n",
      " #   Column                   Non-Null Count  Dtype  \n",
      "---  ------                   --------------  -----  \n",
      " 0   age                      4238 non-null   float64\n",
      " 1   currentSmoker            4238 non-null   float64\n",
      " 2   cigsPerDay               4238 non-null   float64\n",
      " 3   BPMeds                   4238 non-null   float64\n",
      " 4   prevalentHyp             4238 non-null   float64\n",
      " 5   diabetes                 4238 non-null   float64\n",
      " 6   totChol                  4238 non-null   float64\n",
      " 7   sysBP                    4238 non-null   float64\n",
      " 8   diaBP                    4238 non-null   float64\n",
      " 9   BMI                      4238 non-null   float64\n",
      " 10  heartRate                4238 non-null   float64\n",
      " 11  glucose                  4238 non-null   float64\n",
      " 12  Gender_Female            4238 non-null   float64\n",
      " 13  Gender_Male              4238 non-null   float64\n",
      " 14  education_graduate       8476 non-null   float64\n",
      " 15  education_postgraduate   8476 non-null   float64\n",
      " 16  education_primaryschool  8476 non-null   float64\n",
      " 17  education_uneducated     8476 non-null   float64\n",
      " 18  prevalentStroke_no       16952 non-null  float64\n",
      " 19  prevalentStroke_yes      16952 non-null  float64\n",
      " 20  Heart_ stroke_No         33904 non-null  float64\n",
      " 21  Heart_ stroke_yes        33904 non-null  float64\n",
      "dtypes: float64(22)\n",
      "memory usage: 11.9 MB\n"
     ]
    }
   ],
   "source": [
    "df.info()"
   ]
  },
  {
   "cell_type": "code",
   "execution_count": null,
   "id": "0171c201",
   "metadata": {},
   "outputs": [],
   "source": [
    "# Scaling 1-usul\n",
    "\n",
    "from sklearn.preprocessing import MinMaxScaler\n",
    "scaler=MinMaxScaler()\n",
    "\n",
    "for col_name in df.columns:\n",
    "    if df[col_name].dtype!='object':    # != object bolmagan qiymatni yani faqat int,float ni oladi\n",
    "        df[col_name]=scaler.fit_transform(df[[col_name]])"
   ]
  },
  {
   "cell_type": "code",
   "execution_count": 49,
   "id": "f01c719f",
   "metadata": {},
   "outputs": [
    {
     "data": {
      "text/html": [
       "<div>\n",
       "<style scoped>\n",
       "    .dataframe tbody tr th:only-of-type {\n",
       "        vertical-align: middle;\n",
       "    }\n",
       "\n",
       "    .dataframe tbody tr th {\n",
       "        vertical-align: top;\n",
       "    }\n",
       "\n",
       "    .dataframe thead th {\n",
       "        text-align: right;\n",
       "    }\n",
       "</style>\n",
       "<table border=\"1\" class=\"dataframe\">\n",
       "  <thead>\n",
       "    <tr style=\"text-align: right;\">\n",
       "      <th></th>\n",
       "      <th>age</th>\n",
       "      <th>currentSmoker</th>\n",
       "      <th>cigsPerDay</th>\n",
       "      <th>BPMeds</th>\n",
       "      <th>prevalentHyp</th>\n",
       "      <th>diabetes</th>\n",
       "      <th>totChol</th>\n",
       "      <th>sysBP</th>\n",
       "      <th>diaBP</th>\n",
       "      <th>BMI</th>\n",
       "      <th>...</th>\n",
       "      <th>Gender_Female</th>\n",
       "      <th>Gender_Male</th>\n",
       "      <th>education_graduate</th>\n",
       "      <th>education_postgraduate</th>\n",
       "      <th>education_primaryschool</th>\n",
       "      <th>education_uneducated</th>\n",
       "      <th>prevalentStroke_no</th>\n",
       "      <th>prevalentStroke_yes</th>\n",
       "      <th>Heart_ stroke_No</th>\n",
       "      <th>Heart_ stroke_yes</th>\n",
       "    </tr>\n",
       "  </thead>\n",
       "  <tbody>\n",
       "    <tr>\n",
       "      <th>0</th>\n",
       "      <td>0.184211</td>\n",
       "      <td>0.0</td>\n",
       "      <td>0.000000</td>\n",
       "      <td>0.0</td>\n",
       "      <td>0.0</td>\n",
       "      <td>0.0</td>\n",
       "      <td>0.262150</td>\n",
       "      <td>0.358234</td>\n",
       "      <td>0.232804</td>\n",
       "      <td>0.277024</td>\n",
       "      <td>...</td>\n",
       "      <td>NaN</td>\n",
       "      <td>NaN</td>\n",
       "      <td>NaN</td>\n",
       "      <td>NaN</td>\n",
       "      <td>NaN</td>\n",
       "      <td>NaN</td>\n",
       "      <td>NaN</td>\n",
       "      <td>NaN</td>\n",
       "      <td>NaN</td>\n",
       "      <td>NaN</td>\n",
       "    </tr>\n",
       "    <tr>\n",
       "      <th>1</th>\n",
       "      <td>0.368421</td>\n",
       "      <td>0.0</td>\n",
       "      <td>0.000000</td>\n",
       "      <td>0.0</td>\n",
       "      <td>0.0</td>\n",
       "      <td>0.0</td>\n",
       "      <td>0.343152</td>\n",
       "      <td>0.409168</td>\n",
       "      <td>0.349206</td>\n",
       "      <td>0.319680</td>\n",
       "      <td>...</td>\n",
       "      <td>NaN</td>\n",
       "      <td>NaN</td>\n",
       "      <td>NaN</td>\n",
       "      <td>NaN</td>\n",
       "      <td>NaN</td>\n",
       "      <td>NaN</td>\n",
       "      <td>NaN</td>\n",
       "      <td>NaN</td>\n",
       "      <td>NaN</td>\n",
       "      <td>NaN</td>\n",
       "    </tr>\n",
       "    <tr>\n",
       "      <th>2</th>\n",
       "      <td>0.421053</td>\n",
       "      <td>1.0</td>\n",
       "      <td>0.285714</td>\n",
       "      <td>0.0</td>\n",
       "      <td>0.0</td>\n",
       "      <td>0.0</td>\n",
       "      <td>0.335788</td>\n",
       "      <td>0.431239</td>\n",
       "      <td>0.338624</td>\n",
       "      <td>0.237518</td>\n",
       "      <td>...</td>\n",
       "      <td>NaN</td>\n",
       "      <td>NaN</td>\n",
       "      <td>NaN</td>\n",
       "      <td>NaN</td>\n",
       "      <td>NaN</td>\n",
       "      <td>NaN</td>\n",
       "      <td>NaN</td>\n",
       "      <td>NaN</td>\n",
       "      <td>NaN</td>\n",
       "      <td>NaN</td>\n",
       "    </tr>\n",
       "    <tr>\n",
       "      <th>3</th>\n",
       "      <td>0.763158</td>\n",
       "      <td>1.0</td>\n",
       "      <td>0.428571</td>\n",
       "      <td>0.0</td>\n",
       "      <td>1.0</td>\n",
       "      <td>0.0</td>\n",
       "      <td>0.306333</td>\n",
       "      <td>0.507640</td>\n",
       "      <td>0.497354</td>\n",
       "      <td>0.316045</td>\n",
       "      <td>...</td>\n",
       "      <td>NaN</td>\n",
       "      <td>NaN</td>\n",
       "      <td>NaN</td>\n",
       "      <td>NaN</td>\n",
       "      <td>NaN</td>\n",
       "      <td>NaN</td>\n",
       "      <td>NaN</td>\n",
       "      <td>NaN</td>\n",
       "      <td>NaN</td>\n",
       "      <td>NaN</td>\n",
       "    </tr>\n",
       "    <tr>\n",
       "      <th>4</th>\n",
       "      <td>0.368421</td>\n",
       "      <td>1.0</td>\n",
       "      <td>0.328571</td>\n",
       "      <td>0.0</td>\n",
       "      <td>0.0</td>\n",
       "      <td>0.0</td>\n",
       "      <td>0.394698</td>\n",
       "      <td>0.439728</td>\n",
       "      <td>0.380952</td>\n",
       "      <td>0.183228</td>\n",
       "      <td>...</td>\n",
       "      <td>NaN</td>\n",
       "      <td>NaN</td>\n",
       "      <td>NaN</td>\n",
       "      <td>NaN</td>\n",
       "      <td>NaN</td>\n",
       "      <td>NaN</td>\n",
       "      <td>NaN</td>\n",
       "      <td>NaN</td>\n",
       "      <td>NaN</td>\n",
       "      <td>NaN</td>\n",
       "    </tr>\n",
       "  </tbody>\n",
       "</table>\n",
       "<p>5 rows × 22 columns</p>\n",
       "</div>"
      ],
      "text/plain": [
       "        age  currentSmoker  cigsPerDay  BPMeds  prevalentHyp  diabetes  \\\n",
       "0  0.184211            0.0    0.000000     0.0           0.0       0.0   \n",
       "1  0.368421            0.0    0.000000     0.0           0.0       0.0   \n",
       "2  0.421053            1.0    0.285714     0.0           0.0       0.0   \n",
       "3  0.763158            1.0    0.428571     0.0           1.0       0.0   \n",
       "4  0.368421            1.0    0.328571     0.0           0.0       0.0   \n",
       "\n",
       "    totChol     sysBP     diaBP       BMI  ...  Gender_Female  Gender_Male  \\\n",
       "0  0.262150  0.358234  0.232804  0.277024  ...            NaN          NaN   \n",
       "1  0.343152  0.409168  0.349206  0.319680  ...            NaN          NaN   \n",
       "2  0.335788  0.431239  0.338624  0.237518  ...            NaN          NaN   \n",
       "3  0.306333  0.507640  0.497354  0.316045  ...            NaN          NaN   \n",
       "4  0.394698  0.439728  0.380952  0.183228  ...            NaN          NaN   \n",
       "\n",
       "   education_graduate  education_postgraduate  education_primaryschool  \\\n",
       "0                 NaN                     NaN                      NaN   \n",
       "1                 NaN                     NaN                      NaN   \n",
       "2                 NaN                     NaN                      NaN   \n",
       "3                 NaN                     NaN                      NaN   \n",
       "4                 NaN                     NaN                      NaN   \n",
       "\n",
       "   education_uneducated  prevalentStroke_no  prevalentStroke_yes  \\\n",
       "0                   NaN                 NaN                  NaN   \n",
       "1                   NaN                 NaN                  NaN   \n",
       "2                   NaN                 NaN                  NaN   \n",
       "3                   NaN                 NaN                  NaN   \n",
       "4                   NaN                 NaN                  NaN   \n",
       "\n",
       "   Heart_ stroke_No  Heart_ stroke_yes  \n",
       "0               NaN                NaN  \n",
       "1               NaN                NaN  \n",
       "2               NaN                NaN  \n",
       "3               NaN                NaN  \n",
       "4               NaN                NaN  \n",
       "\n",
       "[5 rows x 22 columns]"
      ]
     },
     "execution_count": 49,
     "metadata": {},
     "output_type": "execute_result"
    }
   ],
   "source": [
    "df.head()"
   ]
  },
  {
   "cell_type": "code",
   "execution_count": 51,
   "id": "b31f0d42",
   "metadata": {},
   "outputs": [
    {
     "name": "stdout",
     "output_type": "stream",
     "text": [
      "<class 'pandas.core.frame.DataFrame'>\n",
      "RangeIndex: 4238 entries, 0 to 4237\n",
      "Data columns (total 16 columns):\n",
      " #   Column           Non-Null Count  Dtype  \n",
      "---  ------           --------------  -----  \n",
      " 0   Gender           4227 non-null   object \n",
      " 1   age              4238 non-null   int64  \n",
      " 2   education        4120 non-null   object \n",
      " 3   currentSmoker    4238 non-null   int64  \n",
      " 4   cigsPerDay       4209 non-null   float64\n",
      " 5   BPMeds           4176 non-null   float64\n",
      " 6   prevalentStroke  4238 non-null   object \n",
      " 7   prevalentHyp     4238 non-null   int64  \n",
      " 8   diabetes         4238 non-null   int64  \n",
      " 9   totChol          4173 non-null   float64\n",
      " 10  sysBP            4232 non-null   float64\n",
      " 11  diaBP            4238 non-null   float64\n",
      " 12  BMI              4219 non-null   float64\n",
      " 13  heartRate        4237 non-null   float64\n",
      " 14  glucose          3850 non-null   float64\n",
      " 15  Heart_ stroke    4238 non-null   object \n",
      "dtypes: float64(8), int64(4), object(4)\n",
      "memory usage: 529.9+ KB\n"
     ]
    }
   ],
   "source": [
    "df.info()"
   ]
  },
  {
   "cell_type": "code",
   "execution_count": 68,
   "id": "19e0c54d",
   "metadata": {},
   "outputs": [],
   "source": [
    "#Scaling 2-usul\n",
    "\n",
    "num_col=df.select_dtypes(include=['int64','float64']).columns\n",
    "df[num_col]=scaler.fit_transform(df[num_col])\n"
   ]
  },
  {
   "cell_type": "markdown",
   "id": "699b6146",
   "metadata": {},
   "source": [
    "# Vazifa List Comprehension and Nestet misollar"
   ]
  },
  {
   "cell_type": "code",
   "execution_count": 1,
   "id": "91f67fe5",
   "metadata": {},
   "outputs": [
    {
     "name": "stdout",
     "output_type": "stream",
     "text": [
      "Toq son\n"
     ]
    }
   ],
   "source": [
    "\n",
    "#1.Foydalanuvchidan son kiriting. Agar musbat bo‘lsa, uni juft yoki toqligini aniqlang.\n",
    "\n",
    "son=int(input('Sonni kiriting'))\n",
    "if son>0:\n",
    "    if son%2==0:\n",
    "        print('Juft son')\n",
    "    else:\n",
    "        print('Toq son')\n",
    "else:\n",
    "    print('Manfiy yoki nol son')\n"
   ]
  },
  {
   "cell_type": "code",
   "execution_count": null,
   "id": "7bd28b14",
   "metadata": {},
   "outputs": [
    {
     "name": "stdout",
     "output_type": "stream",
     "text": [
      "Katta yosh\n"
     ]
    }
   ],
   "source": [
    "#2.Foydalanuvchidan yoshini so‘rang. Agar 18 yoki undan katta bo‘lsa, yana tekshirib 65 dan kichik bo‘lsa → \"Katta yoshli\", bo‘lmasa \"Qari\".\n",
    "\n",
    "yoshi=int(input('Yoshingizni kiriting'))\n",
    "if yoshi>=19:\n",
    "    if yoshi<65:\n",
    "        print('Katta yoshli')\n",
    "    else:\n",
    "        print('Qari')\n",
    "else:\n",
    "    print('Voyaga yetmagan')"
   ]
  },
  {
   "cell_type": "code",
   "execution_count": 9,
   "id": "bcaf16ed",
   "metadata": {},
   "outputs": [
    {
     "name": "stdout",
     "output_type": "stream",
     "text": [
      "eng katta son: 25\n"
     ]
    }
   ],
   "source": [
    "#3.Uchta son kiriting. Ichma-ich if yordamida eng kattasini toping.\n",
    "\n",
    "a=int(input('1chi sonni kiriting'))\n",
    "b=int(input('2chi sonni kiriiting'))\n",
    "c=int(input('3chi sonni kiriting'))\n",
    "\n",
    "if a>b and a>c and b>c:\n",
    "    print('eng katta son:', a)\n",
    "else:\n",
    "    print('eng katta son:', b)\n",
    "\n",
    " \n",
    "    \n"
   ]
  },
  {
   "cell_type": "code",
   "execution_count": 16,
   "id": "0879aede",
   "metadata": {},
   "outputs": [
    {
     "name": "stdout",
     "output_type": "stream",
     "text": [
      "Undosh harf\n"
     ]
    }
   ],
   "source": [
    "#4.Bitta belgi kiriting. Agar u harf bo‘lsa, yana tekshirib unli yoki undosh ekanligini aniqlang.\n",
    "\n",
    "belgi=input('belgini kiriting:')\n",
    "unliharflar='aeiouAEIOU'\n",
    "if belgi in unliharflar:\n",
    "    if belgi.isalpha():         #isalpha() 'Bu belgi harfdan iboratmi?' degan savolni tekshiradi.\n",
    "        print('Unli harf')\n",
    "else:\n",
    "    print('Undosh harf')\n"
   ]
  },
  {
   "cell_type": "code",
   "execution_count": 18,
   "id": "70fd62ca",
   "metadata": {},
   "outputs": [
    {
     "name": "stdout",
     "output_type": "stream",
     "text": [
      "otdi\n"
     ]
    }
   ],
   "source": [
    "#5.Foydalanuvchidan imtihon bahosini kiriting. Agar baho ≥ 50 → \"O‘tdi\", bo‘lmasa \"Yi qildi\". Agar o‘tdi va baho ≥ 90 bo‘lsa → \"A'lo\".\n",
    "\n",
    "baho=int(input('Bahoni kiriting'))\n",
    "if baho>=50:\n",
    "    if baho>=90:\n",
    "        print('alo')\n",
    "    else:\n",
    "        print('otdi')\n",
    "else:\n",
    "    print('yiqildi')"
   ]
  },
  {
   "cell_type": "code",
   "execution_count": 25,
   "id": "4bde45a2",
   "metadata": {},
   "outputs": [
    {
     "name": "stdout",
     "output_type": "stream",
     "text": [
      "son faqat 2 ga bolinadi\n"
     ]
    }
   ],
   "source": [
    "#6.Son kiriting. Agar son 2 ga bo‘linsa, yana tekshirib 3 ga ham bo‘linishini aniqlang.\n",
    "\n",
    "son1=int(input('sonni kiriting'))\n",
    "if son1%2==0 and son1%3==0:\n",
    "    print('son 2ga ham 3ga ham bolinadi')\n",
    "else:\n",
    "        print('son faqat 2 ga bolinadi')\n",
    "\n",
    "     "
   ]
  },
  {
   "cell_type": "code",
   "execution_count": 28,
   "id": "406dc62a",
   "metadata": {},
   "outputs": [
    {
     "name": "stdout",
     "output_type": "stream",
     "text": [
      "issiq\n"
     ]
    }
   ],
   "source": [
    "# 7. Haroratni kiriting. Agar 0 dan katta bo‘lsa → \"Muzlashdan yuqori\". Agar 30 dan katta bo‘lsa → \"Issiq\". Agar 0 dan kichik bo‘lsa → \"Muzlash\" deb chiqaring.\n",
    "\n",
    "harorat=int(input('haroratni kiriting'))\n",
    "if harorat>30:\n",
    "    print('issiq')\n",
    "elif harorat>0:\n",
    "    print('muzlashdan yuqori')\n",
    "else:\n",
    "    print('muzlash')"
   ]
  },
  {
   "cell_type": "code",
   "execution_count": 31,
   "id": "bbd00be3",
   "metadata": {},
   "outputs": [
    {
     "name": "stdout",
     "output_type": "stream",
     "text": [
      "kut\n"
     ]
    }
   ],
   "source": [
    "#8.Svetofor rangini kiriting (qizil, sariq, yashil). Agar yashil → \"Yur\", agar qizil → \"To‘xta\", agar sariq → \"Kut\".\n",
    "\n",
    "rang=input('Svetafor rangini kiriting(sariq,qizil,yashil)')\n",
    "if rang=='yashil':\n",
    "    print('yur')\n",
    "elif rang=='qizil':\n",
    "    print('toxta')\n",
    "elif rang=='sariq':\n",
    "    print('kut')\n",
    "else:\n",
    "    print('notogri rang kiritildi')"
   ]
  },
  {
   "cell_type": "code",
   "execution_count": 34,
   "id": "55b042ea",
   "metadata": {},
   "outputs": [
    {
     "name": "stdout",
     "output_type": "stream",
     "text": [
      "kabisa yili\n"
     ]
    }
   ],
   "source": [
    "#9.Bir yilni kiriting. Agar yil 4 ga bo‘linsa va 100 ga bo‘linmasa yoki 400 ga bo‘linsa → \"Kabisa yili\", bo‘lmasa \"Oddiy yil\".\n",
    "\n",
    "yil=int(input('yilni kiriting'))\n",
    "if yil%4==0 and yil%100!=0:\n",
    "    print('kabisa yili')\n",
    "else:\n",
    "    print('oddiy yil')"
   ]
  },
  {
   "cell_type": "code",
   "execution_count": 32,
   "id": "6898c0cd",
   "metadata": {},
   "outputs": [
    {
     "name": "stdout",
     "output_type": "stream",
     "text": [
      "1chi son katta\n"
     ]
    }
   ],
   "source": [
    "#10.Ikki son kiriting. Agar birinchi > ikkinchi bo‘lsa → \"Birinchi katta\", agar teng bo‘lsa → \"Teng\", aks holda \"Ikkinchi katta\".\n",
    "\n",
    "a=int(input('1chi soni kiriting'))\n",
    "b=int(input('2chi sonni kiriting'))\n",
    "if a>b:\n",
    "    print('1chi son katta')\n",
    "elif a==b:\n",
    "    print('ikki son teng')\n",
    "else:\n",
    "    print('2chi son katta')"
   ]
  },
  {
   "cell_type": "code",
   "execution_count": 38,
   "id": "365d0702",
   "metadata": {},
   "outputs": [
    {
     "name": "stdout",
     "output_type": "stream",
     "text": [
      "[1, 2, 3, 4, 5, 6, 7, 8, 9, 10]\n"
     ]
    }
   ],
   "source": [
    "#1. 1 dan 10 gacha bo‘lgan sonlar ro‘yxatini tuzing.\n",
    "\n",
    "sonlar = [x for x in range(1, 11)]\n",
    "print(sonlar)\n",
    "\n"
   ]
  },
  {
   "cell_type": "code",
   "execution_count": null,
   "id": "e52d09bf",
   "metadata": {},
   "outputs": [
    {
     "name": "stdout",
     "output_type": "stream",
     "text": [
      "[1, 4, 9, 16, 25, 36, 49, 64, 81, 100]\n"
     ]
    }
   ],
   "source": [
    "#2. 1 dan 10 gacha bo‘lgan sonlarning kvadratlari ro‘yxatini yarating.\n",
    "\n",
    "\n",
    "kvadratlar=[x**2 for x in range(1, 11)]\n",
    "print(kvadratlar)"
   ]
  },
  {
   "cell_type": "code",
   "execution_count": 39,
   "id": "c33807a7",
   "metadata": {},
   "outputs": [
    {
     "name": "stdout",
     "output_type": "stream",
     "text": [
      "[2, 4, 6, 8, 10, 12, 14, 16, 18, 20]\n"
     ]
    }
   ],
   "source": [
    "#3. 1 dan 20 gacha bo‘lgan juft sonlar ro‘yxatini tuzing.\n",
    "\n",
    "juftson=[x for x in range(1,21) if x%2==0]\n",
    "print(juftson)"
   ]
  },
  {
   "cell_type": "code",
   "execution_count": 40,
   "id": "b030d1c3",
   "metadata": {},
   "outputs": [
    {
     "name": "stdout",
     "output_type": "stream",
     "text": [
      "['toq', 'juft', 'toq', 'juft', 'toq', 'juft', 'toq', 'juft', 'toq', 'juft']\n"
     ]
    }
   ],
   "source": [
    "#4. 1 dan 10 gacha sonlar uchun \"Juft\" yoki \"Toq\" degan yozuvlardan iborat ro‘yxat tuzing (if else bilan).\n",
    "\n",
    "\n",
    "toq_juft=['juft' if i%2==0 else 'toq' for i in range(1,11)]\n",
    "print(toq_juft)"
   ]
  },
  {
   "cell_type": "code",
   "execution_count": 41,
   "id": "a5f141a2",
   "metadata": {},
   "outputs": [
    {
     "name": "stdout",
     "output_type": "stream",
     "text": [
      "[3, 6, 9, 12, 15, 18]\n"
     ]
    }
   ],
   "source": [
    "#5. 1 dan 20 gacha bo‘lgan sonlardan faqat 3 ga bo‘linadigan sonlar ro‘yxatini yarating.\n",
    "\n",
    "\n",
    "uchga_bolinadigan=[i for i in range(1,21) if i%3==0]\n",
    "print(uchga_bolinadigan)"
   ]
  },
  {
   "cell_type": "code",
   "execution_count": 42,
   "id": "18c10613",
   "metadata": {},
   "outputs": [
    {
     "name": "stdout",
     "output_type": "stream",
     "text": [
      "[1, 'ikki', 3, 'ikki', 5, 'ikki', 7, 'ikki', 9, 'ikki']\n"
     ]
    }
   ],
   "source": [
    "#6. 1 dan 10 gacha sonlar ro‘yxatini tuzing, agar son 2 ga bo‘linsa \"Ikki\" deb yozing, bo‘lmasa sonning o‘zini yozing.\n",
    "\n",
    "ikki_or_son=['ikki' if i%2==0 else i for i in range(1,11)]\n",
    "print(ikki_or_son)"
   ]
  },
  {
   "cell_type": "code",
   "execution_count": 45,
   "id": "f1a26f31",
   "metadata": {},
   "outputs": [
    {
     "name": "stdout",
     "output_type": "stream",
     "text": [
      "['salom', 'daftar', 'noutbuk', 'cofee']\n"
     ]
    }
   ],
   "source": [
    "#7. Berilgan so‘zlar ro‘yxatidan faqat uzunligi 4 dan katta bo‘lgan so‘zlarni ajratib oling.\n",
    "\n",
    "sozlar=['salom','daftar','noutbuk','AI','fan','Yes','cofee']\n",
    "uzunroq_sozlar=[i for i in sozlar if len(i)>4]\n",
    "print(uzunroq_sozlar)\n"
   ]
  },
  {
   "cell_type": "code",
   "execution_count": 49,
   "id": "da5fae23",
   "metadata": {},
   "outputs": [
    {
     "name": "stdout",
     "output_type": "stream",
     "text": [
      "['SALOM', 'DAFTAR', 'NOUTBUK', 'AI', 'FAN', 'YES', 'COFEE']\n"
     ]
    }
   ],
   "source": [
    "#8. Berilgan so‘zlar ro‘yxatini har bir so‘zni katta harflar bilan yozilgan ko‘rinishga aylantiring.\n",
    "\n",
    "katta_harf_sozlar=[i.upper() for i in sozlar]\n",
    "print(katta_harf_sozlar)\n"
   ]
  },
  {
   "cell_type": "code",
   "execution_count": 50,
   "id": "24ad280b",
   "metadata": {},
   "outputs": [
    {
     "name": "stdout",
     "output_type": "stream",
     "text": [
      "[5, 10, 15, 20, 25, 30]\n"
     ]
    }
   ],
   "source": [
    "#9. 1 dan 30 gacha bo‘lgan sonlardan faqat 5 ga bo‘linadigan sonlarni tanlab ro‘yxat tuzing.\n",
    "\n",
    "beshga_bolinadigan_son=[i for i in range(1,31) if i%5==0]\n",
    "print(beshga_bolinadigan_son)\n"
   ]
  },
  {
   "cell_type": "code",
   "execution_count": 51,
   "id": "08146485",
   "metadata": {},
   "outputs": [
    {
     "name": "stdout",
     "output_type": "stream",
     "text": [
      "[1, 4, 27, 16, 125, 36, 343, 64, 729, 100, 1331, 144, 2197, 196, 3375]\n"
     ]
    }
   ],
   "source": [
    "#10. 1 dan 15 gacha sonlardan: agar son juft bo‘lsa → sonning kvadrati, agar toq bo‘lsa → sonning kubini ro‘yxatga yozing.\n",
    "\n",
    "result=[x**2 if x%2==0 else x**3 for x in range(1, 16)]\n",
    "print(result)\n"
   ]
  },
  {
   "cell_type": "code",
   "execution_count": 53,
   "id": "40dd9c2d",
   "metadata": {},
   "outputs": [],
   "source": [
    "# misollarni 2 tasidan tashqari hammasini uzim ishladim oxirgi 10 va 2-ni chatgptdan soradim\n",
    "# matematikam maktabda litseyda yaxshi edi lekin kvadratini, kubini aniqlashda kod yozishni uddalay olmadim uzom esimga kelmadi. \n",
    "# bularni vaqt topib takrorlab qoyaman qayta. "
   ]
  },
  {
   "cell_type": "markdown",
   "id": "91df0011",
   "metadata": {},
   "source": [
    "# Boshqani projectidan korib organish"
   ]
  },
  {
   "cell_type": "code",
   "execution_count": 56,
   "id": "8693f8c6",
   "metadata": {},
   "outputs": [],
   "source": [
    "#1. kaggle dan Data Preprocessing For Machine Learning nomli dataset topdim. Biz hzorigacha organgan kolarni bazilarini korib chiqdim.\n",
    "#  Import Essential Libraries  --> kerakli kutubxonalarni chaqiryapti:\n",
    "\n",
    "#import numpy as np\n",
    "#import pandas as pd\n",
    "#from sklearn.model_selection import train_test_split\n",
    "#from imblearn.over_sampling import SMOTE\n",
    "#from sklearn.feature_selection import mutual_info_classif\n",
    "#from sklearn.preprocessing import StandardScaler\n",
    "\n",
    "#Import Dataset --> datasetni yuklab olayapti va umumiy malumotni koryapti (head(),info())\n",
    "\n",
    "#loan_dataset= pd.read_csv(\"/kaggle/input/loan-predication/train_u6lujuX_CVtuZ9i (1).csv\")\n",
    "#loan_dataset.head(5)\n",
    "#loan_dataset.info()\n",
    "\n",
    "# Drop Unecessary Variables    ---> keraksiz ustun qiymatlar tashlab yuborilyapti\n",
    "#loan_dataset = loan_dataset.drop(\"Loan_ID\", axis=1)\n",
    "\n",
    "# missing values ga doir amal bajarilaypti mean- ortacha qiymat bn hisoblab ustunda\n",
    "# tushirib qoldirilgan qiymat bolsa usha bn toldiradi. \n",
    "\n",
    "#def fill_missing_values_by_mean(df, column):\n",
    "#   for col in cols:\n",
    "#       df[col].fillna(df[col].mean(), inplace=True)\n",
    "#  return df\n",
    "#\n",
    "\n",
    "\n",
    "#Handling Missing Values in Categorical Features--> categorical qiymatlarni mode bilan toldirib\n",
    "\n",
    "#def Fill_Null(df,cols):\n",
    "#   \n",
    "#  for col in cols:\n",
    "#     df[col].fillna(df[col].mode()[0], inplace=True)\n",
    "#\n",
    "#   return df\n",
    "# \n",
    "# \n",
    "# Encoding Categorical Features  -->  encoding amal bajarilgan. \n",
    "\n",
    "#def encode_categorical_features(df, cols):\n",
    "#    \n",
    "#    for col in cols:                 --> for loop \n",
    "#        dummies = pd.get_dummies(df[col], dtype=int, prefix=col)      --1> dummies yaratilib one-hot encodingda yani 0,1 qiymatga keltirilib\n",
    "#                                                                      yangi ustun asli ustun nomi bn birga  kiritiladi.\n",
    "#        df = pd.concat([df, dummies], axis=1)            --> eski ustun nomi tashlab yuborilai.\n",
    "#        df = df.drop(labels=col, axis=1)\n",
    "#    return df\n",
    "\n",
    "\n",
    "## Scalling the dataset using StandardScaler  --> scaler qismida standardscalerdan foydalanib \n",
    "# scaler = StandardScaler()\n",
    "#\n",
    "# X_V = X_val.values\n",
    "# X_T = X_test.values\n",
    "# scaled_x_train = scaler.fit_transform(X_train)\n",
    "# scaled_x_val = scaler.transform(X_V)\n",
    "# scaled_x_test = scaler.transform(X_T)\n",
    "#\n",
    "#\n",
    "#\n",
    "#\n",
    "\n"
   ]
  },
  {
   "cell_type": "code",
   "execution_count": null,
   "id": "62faa68d",
   "metadata": {},
   "outputs": [],
   "source": []
  }
 ],
 "metadata": {
  "kernelspec": {
   "display_name": "base",
   "language": "python",
   "name": "python3"
  },
  "language_info": {
   "codemirror_mode": {
    "name": "ipython",
    "version": 3
   },
   "file_extension": ".py",
   "mimetype": "text/x-python",
   "name": "python",
   "nbconvert_exporter": "python",
   "pygments_lexer": "ipython3",
   "version": "3.13.5"
  }
 },
 "nbformat": 4,
 "nbformat_minor": 5
}
