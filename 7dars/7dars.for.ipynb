{
 "cells": [
  {
   "cell_type": "markdown",
   "id": "a14532e4",
   "metadata": {},
   "source": [
    "# For loop"
   ]
  },
  {
   "cell_type": "code",
   "execution_count": 2,
   "id": "a1ad7356",
   "metadata": {},
   "outputs": [
    {
     "name": "stdout",
     "output_type": "stream",
     "text": [
      "1\n",
      "2\n",
      "3\n",
      "4\n"
     ]
    }
   ],
   "source": [
    "for i in [1,2,3,4]:\n",
    "  print(i)"
   ]
  },
  {
   "cell_type": "code",
   "execution_count": 4,
   "id": "1e7efe11",
   "metadata": {},
   "outputs": [
    {
     "name": "stdout",
     "output_type": "stream",
     "text": [
      "1\n",
      "OK\n",
      "Yes\n"
     ]
    }
   ],
   "source": [
    "for i in [1, 'OK', 'Yes']:\n",
    "  print(i)"
   ]
  },
  {
   "cell_type": "markdown",
   "id": "508b512a",
   "metadata": {},
   "source": [
    "# Range (star, stop, step)"
   ]
  },
  {
   "cell_type": "code",
   "execution_count": 5,
   "id": "1aaf46c1",
   "metadata": {},
   "outputs": [
    {
     "name": "stdout",
     "output_type": "stream",
     "text": [
      "1\n",
      "4\n",
      "7\n",
      "10\n",
      "13\n"
     ]
    }
   ],
   "source": [
    "for i in range(1,15,3):\n",
    "  print(i)"
   ]
  },
  {
   "cell_type": "code",
   "execution_count": 1,
   "id": "27d0fa08",
   "metadata": {},
   "outputs": [
    {
     "name": "stdout",
     "output_type": "stream",
     "text": [
      "10\n",
      "9\n"
     ]
    }
   ],
   "source": [
    "for i in range(10,8,-1):\n",
    "  print(i)"
   ]
  },
  {
   "cell_type": "code",
   "execution_count": 3,
   "id": "e6f52aec",
   "metadata": {},
   "outputs": [
    {
     "name": "stdout",
     "output_type": "stream",
     "text": [
      "20\n",
      "16\n",
      "12\n",
      "8\n",
      "4\n"
     ]
    }
   ],
   "source": [
    "for i in range(20,1,-4):\n",
    "    print(i)"
   ]
  },
  {
   "cell_type": "code",
   "execution_count": 6,
   "id": "c19aa623",
   "metadata": {},
   "outputs": [
    {
     "name": "stdout",
     "output_type": "stream",
     "text": [
      "2\n",
      "4\n",
      "6\n",
      "8\n",
      "10\n"
     ]
    }
   ],
   "source": [
    "# 1 dan boshlab 10 gacha bolgan sonlarni juftlarini toping.(1-usul)\n",
    "\n",
    "for i in range(2,11):\n",
    "    if i%2==0:\n",
    "        print(i)"
   ]
  },
  {
   "cell_type": "code",
   "execution_count": 7,
   "id": "201df7af",
   "metadata": {},
   "outputs": [
    {
     "name": "stdout",
     "output_type": "stream",
     "text": [
      "2\n",
      "4\n",
      "6\n",
      "8\n",
      "10\n"
     ]
    }
   ],
   "source": [
    "# 1 dan boshlab 10 gacha bolgan sonlarni juftlarini toping.(2-usul)\n",
    "\n",
    "for i in range(2,11,2):\n",
    "    print(i)"
   ]
  },
  {
   "cell_type": "code",
   "execution_count": 8,
   "id": "c6ffe4c1",
   "metadata": {},
   "outputs": [
    {
     "name": "stdout",
     "output_type": "stream",
     "text": [
      "1\n",
      "2\n",
      "3\n",
      "4\n",
      "5\n",
      "6\n",
      "7\n",
      "8\n",
      "9\n",
      "10\n",
      "1da 10gacha sonalr yigindisi: 55 ga teng\n"
     ]
    }
   ],
   "source": [
    "# 1 dan boshlaba 10gacha sonlarning yigindisini toping.\n",
    "\n",
    "yigindi=0\n",
    "for i in range(1,11):\n",
    "    yigindi=yigindi+i\n",
    "    print(i)\n",
    "print('1da 10gacha sonalr yigindisi:',yigindi, 'ga teng')"
   ]
  },
  {
   "cell_type": "code",
   "execution_count": 9,
   "id": "cbaa00a1",
   "metadata": {},
   "outputs": [
    {
     "name": "stdout",
     "output_type": "stream",
     "text": [
      "1\n",
      "2\n",
      "3\n",
      "4\n",
      "5\n",
      "6\n",
      "7\n",
      "8\n",
      "9\n",
      "10\n",
      "1dan 10gacha sonlar yigindisi: 55 ga teng\n"
     ]
    }
   ],
   "source": [
    "yigindi2=0\n",
    "for i in range(1,11):\n",
    "    yigindi2+=i\n",
    "    print(i)\n",
    "print('1dan 10gacha sonlar yigindisi:', yigindi2, 'ga teng')"
   ]
  },
  {
   "cell_type": "code",
   "execution_count": 10,
   "id": "f0b50309",
   "metadata": {},
   "outputs": [
    {
     "name": "stdout",
     "output_type": "stream",
     "text": [
      "1\n",
      "2\n",
      "3\n",
      "4\n",
      "5\n",
      "120\n"
     ]
    }
   ],
   "source": [
    "# 1dan bsohlab 5gacha sonlar kopaytmasini toping.\n",
    "\n",
    "kopaytma=1\n",
    "for i in range(1,6):\n",
    "    kopaytma*=i \n",
    "    print(i)\n",
    "print(kopaytma)"
   ]
  },
  {
   "cell_type": "code",
   "execution_count": 11,
   "id": "4dfbcf52",
   "metadata": {},
   "outputs": [
    {
     "name": "stdout",
     "output_type": "stream",
     "text": [
      "1\n",
      "2\n",
      "3\n",
      "4\n",
      "5\n",
      "6\n",
      "7\n",
      "8\n",
      "1dan 9gacha sonlar kopaytmasi: 40320 ga teng\n"
     ]
    }
   ],
   "source": [
    "kopaytma2=1\n",
    "for i in range(1,9):\n",
    "    kopaytma2*=i\n",
    "    print(i)\n",
    "print('1dan 9gacha sonlar kopaytmasi:',kopaytma2, 'ga teng')\n"
   ]
  },
  {
   "cell_type": "code",
   "execution_count": 13,
   "id": "f77abdfb",
   "metadata": {},
   "outputs": [
    {
     "name": "stdout",
     "output_type": "stream",
     "text": [
      "-4\n",
      "-3\n",
      "-2\n",
      "-24\n"
     ]
    }
   ],
   "source": [
    "kopaytma3=1\n",
    "for i in range(-4,-1):\n",
    "    kopaytma3*=i\n",
    "    print(i)\n",
    "print(kopaytma3)"
   ]
  },
  {
   "cell_type": "markdown",
   "id": "5e7cd8b6",
   "metadata": {},
   "source": [
    "# Vazifa topshiriq"
   ]
  },
  {
   "cell_type": "code",
   "execution_count": null,
   "id": "3d03d9b7",
   "metadata": {},
   "outputs": [],
   "source": [
    "# Ixtiyoriy listda berilgan sonlarni yigindisini toping\n",
    "# Ixtiyoriy listda berilgan sonlarni kopaytmasini toping\n",
    "# Ixtiyoriy listda berilgan juft sonlarni yigindisini toping\n",
    "# Ixtiyoriy listda berilgan toq sonlarni yigindisini toping\n",
    "# Ixtiyoriy listda berilgan musbat va toq sonlarni yigindisini toping\n",
    "# Ixtiyoriy listda berilgan musbat lekin toq bolmagan sonlarni sonlarni yigindisini toping\n",
    "# Ixtiyoriy listda berilgan musbat va toq va 3 ga bolinadigan  sonlarni yigindisini toping\n",
    "# Ixtiyoriy listda berilgan manfiy va 2  xonalari  sonlarni yigindisini toping\n",
    "# Ixtiyoriy listda berilgan 5ga  karrali manfiy  sonlarni yigindisini toping\n",
    "# Ixtiyoriy listda berilgan 5ga  karrali manfiy  sonlarni kopaytmasini toping"
   ]
  },
  {
   "cell_type": "code",
   "execution_count": 67,
   "id": "299c8cd0",
   "metadata": {},
   "outputs": [
    {
     "name": "stdout",
     "output_type": "stream",
     "text": [
      "Listdagi sonlar yigindisi: 32\n"
     ]
    }
   ],
   "source": [
    "# 1 Ixtiyoriy listda berilgan sonlarni yigindisini toping.  \n",
    "\n",
    "\n",
    "sonlar = [3, 5, 7, 9, 12, -4]\n",
    "\n",
    "yigindi = 0\n",
    "for i in sonlar:\n",
    "    yigindi += i\n",
    "\n",
    "print('Listdagi sonlar yigindisi:', yigindi)\n",
    "\n"
   ]
  },
  {
   "cell_type": "code",
   "execution_count": 60,
   "id": "0f4b44cb",
   "metadata": {},
   "outputs": [
    {
     "name": "stdout",
     "output_type": "stream",
     "text": [
      "1\n",
      "2\n",
      "3\n",
      "4\n",
      "5\n",
      "6\n",
      "kopaytmasi 720 ga teng\n"
     ]
    }
   ],
   "source": [
    "# 2 Ixtiyoriy listda berilgan sonlarni kopaytmasini toping\n",
    "\n",
    "kopaytmaa = 1\n",
    "for i in range(1, 7):\n",
    "    kopaytmaa *= i\n",
    "    print(i)\n",
    "print('kopaytmasi',kopaytmaa, 'ga teng')\n",
    "\n"
   ]
  },
  {
   "cell_type": "code",
   "execution_count": 61,
   "id": "ee79752c",
   "metadata": {},
   "outputs": [
    {
     "name": "stdout",
     "output_type": "stream",
     "text": [
      "Juft sonlar yigindisi: -12\n"
     ]
    }
   ],
   "source": [
    "# 3 Ixtiyoriy listda berilgan juft sonlarni yigindisini toping\n",
    "\n",
    "sonlar = [3, 5, -4, 2, -10, 15, 9, -25]\n",
    "juft_yigindi = 0\n",
    "for i in sonlar:\n",
    "    if i % 2 == 0:\n",
    "        juft_yigindi += i\n",
    "print('Juft sonlar yigindisi:', juft_yigindi)"
   ]
  },
  {
   "cell_type": "code",
   "execution_count": 57,
   "id": "2bc2058c",
   "metadata": {},
   "outputs": [
    {
     "name": "stdout",
     "output_type": "stream",
     "text": [
      "Toq sonlar yigindisi: 0\n"
     ]
    }
   ],
   "source": [
    "# 4 Ixtiyoriy listda berilgan toq sonlarni yigindisini toping\n",
    "\n",
    "sonlar = [3, 5, -4, 2, -10, 15, 9, -25]\n",
    "toq_yigindi = 0\n",
    "for i in sonlar:\n",
    "    if i % 2 != 0:\n",
    "        juft_yigindi += i\n",
    "print('Toq sonlar yigindisi:', toq_yigindi)\n"
   ]
  },
  {
   "cell_type": "code",
   "execution_count": null,
   "id": "613cc953",
   "metadata": {},
   "outputs": [
    {
     "name": "stdout",
     "output_type": "stream",
     "text": [
      "Musbat va toq sonlar yigindisi: 32\n"
     ]
    }
   ],
   "source": [
    "# 5 Ixtiyoriy listda berilgan musbat va toq sonlarni yigindisini toping\n",
    "\n",
    "sonlar = [3, 5, -4, 2, -10, 15, 9, -25]\n",
    "musbat_toq_yigindi = 0\n",
    "for i in sonlar:\n",
    "    if i > 0 and i % 2 != 0:\n",
    "        musbat_toq_yigindi += i\n",
    "print(\"Musbat va toq sonlar yigindisi:\", musbat_toq_yigindi)\n"
   ]
  },
  {
   "cell_type": "code",
   "execution_count": 56,
   "id": "8121a8b3",
   "metadata": {},
   "outputs": [
    {
     "name": "stdout",
     "output_type": "stream",
     "text": [
      "Musbat lekin toq bolmagan sonlar yigindisi: 8\n"
     ]
    }
   ],
   "source": [
    "# 6 Ixtiyoriy listda berilgan musbat lekin toq bolmagan sonlarni sonlarni yigindisini toping\n",
    "\n",
    "sonlar = [3, 5, -4, 2, -10, 15, 9,6, -25]\n",
    "musbat_lekin_toq_emas = 0\n",
    "for i in sonlar:\n",
    "    if i > 0 and i % 2 == 0:\n",
    "        musbat_lekin_toq_emas += i\n",
    "print('Musbat lekin toq bolmagan sonlar yigindisi:', musbat_lekin_toq_emas)"
   ]
  },
  {
   "cell_type": "code",
   "execution_count": 55,
   "id": "754db667",
   "metadata": {},
   "outputs": [
    {
     "name": "stdout",
     "output_type": "stream",
     "text": [
      "Musbat, toq va 3 ga bolinadigan sonlar yigindisi: 27\n"
     ]
    }
   ],
   "source": [
    "# 7 Ixtiyoriy listda berilgan musbat va toq va 3 ga bolinadigan  sonlarni yigindisini toping\n",
    "\n",
    "\n",
    "sonlar = [3, 5, -4, 2, -10, 15, 9,6, -25]\n",
    "musbat_toq_uchga = 0\n",
    "for i in sonlar:                             #list ichidan:\n",
    "    if i > 0 and i % 2 != 0 and i % 3 == 0: # musbat,toq va 3ga bolinadigan\n",
    "        musbat_toq_uchga += i               #yiginsini topish\n",
    "print('Musbat, toq va 3 ga bolinadigan sonlar yigindisi:', musbat_toq_uchga)"
   ]
  },
  {
   "cell_type": "code",
   "execution_count": null,
   "id": "fb95903e",
   "metadata": {},
   "outputs": [
    {
     "name": "stdout",
     "output_type": "stream",
     "text": [
      "Manfiy va ikki xonali sonlar yigindisi: -35\n"
     ]
    }
   ],
   "source": [
    "#8  Ixtiyoriy listda berilgan manfiy va 2  xonalari  sonlarni yigindisini toping\n",
    "\n",
    "\n",
    "sonlar = [3, 5, -4, 2, -10, 15, 9,6, -25]\n",
    "manfiy_ikki_xona = 0\n",
    "for i in sonlar:\n",
    "    if i < 0 and -99 <= i <= -10:\n",
    "        manfiy_ikki_xona += i\n",
    "print(\"Manfiy va ikki xonali sonlar yigindisi:\", manfiy_ikki_xona)"
   ]
  },
  {
   "cell_type": "code",
   "execution_count": 63,
   "id": "89b345c3",
   "metadata": {},
   "outputs": [
    {
     "name": "stdout",
     "output_type": "stream",
     "text": [
      "5 ga karrali manfiy sonlar yig‘indisi -35\n"
     ]
    }
   ],
   "source": [
    "# 9 Ixtiyoriy listda berilgan 5ga  karrali manfiy  sonlarni yigindisini toping\n",
    "\n",
    "\n",
    "sonlar = [3, 5, -4, 2, -10, 15, 9,6, -25]\n",
    "manfiy_besh = 0\n",
    "for i in sonlar:\n",
    "    if i < 0 and i % 5 == 0:\n",
    "        manfiy_besh += i\n",
    "print('5 ga karrali manfiy sonlar yig‘indisi', manfiy_besh)"
   ]
  },
  {
   "cell_type": "code",
   "execution_count": 64,
   "id": "694a9bd9",
   "metadata": {},
   "outputs": [
    {
     "name": "stdout",
     "output_type": "stream",
     "text": [
      "5 ga karrali manfiy sonlar ko‘paytmasi: 250\n"
     ]
    }
   ],
   "source": [
    "#10 Ixtiyoriy listda berilgan 5ga  karrali manfiy  sonlarni kopaytmasini toping\n",
    "\n",
    "sonlar = [3, 5, -4, 2, -10, 15, 9,6, -25]\n",
    "manfiy_besh_kopaytma = 1\n",
    "for i in sonlar:\n",
    "    if i < 0 and i % 5 == 0:\n",
    "        manfiy_besh_kopaytma *= i\n",
    "print(\"5 ga karrali manfiy sonlar ko‘paytmasi:\", manfiy_besh_kopaytma)"
   ]
  },
  {
   "cell_type": "code",
   "execution_count": null,
   "id": "84226b9b",
   "metadata": {},
   "outputs": [],
   "source": []
  },
  {
   "cell_type": "markdown",
   "id": "994fe61b",
   "metadata": {},
   "source": [
    "# Foor loop + Missing Values"
   ]
  },
  {
   "cell_type": "code",
   "execution_count": 21,
   "id": "ea276e21",
   "metadata": {},
   "outputs": [],
   "source": [
    "import pandas as pd"
   ]
  },
  {
   "cell_type": "code",
   "execution_count": 25,
   "id": "5ec7c61c",
   "metadata": {},
   "outputs": [
    {
     "name": "stderr",
     "output_type": "stream",
     "text": [
      "C:\\Users\\Admin\\AppData\\Local\\Temp\\ipykernel_12008\\3746027427.py:1: DtypeWarning: Columns (4) have mixed types. Specify dtype option on import or set low_memory=False.\n",
      "  df=pd.read_csv('test.csv')\n"
     ]
    }
   ],
   "source": [
    "df=pd.read_csv('test.csv')"
   ]
  },
  {
   "cell_type": "code",
   "execution_count": 26,
   "id": "e358e2cc",
   "metadata": {},
   "outputs": [
    {
     "name": "stdout",
     "output_type": "stream",
     "text": [
      "<class 'pandas.core.frame.DataFrame'>\n",
      "RangeIndex: 999997 entries, 0 to 999996\n",
      "Data columns (total 21 columns):\n",
      " #   Column             Non-Null Count   Dtype  \n",
      "---  ------             --------------   -----  \n",
      " 0   Age                999997 non-null  int64  \n",
      " 1   Grade              999997 non-null  int64  \n",
      " 2   Gender             999994 non-null  object \n",
      " 3   Race               999997 non-null  object \n",
      " 4   SES_Quartile       999997 non-null  object \n",
      " 5   ParentalEducation  999997 non-null  object \n",
      " 6   SchoolType         999997 non-null  object \n",
      " 7   Locale             999997 non-null  object \n",
      " 8   TestScore_Math     999997 non-null  float64\n",
      " 9   TestScore_Reading  999995 non-null  float64\n",
      " 10  TestScore_Science  999997 non-null  float64\n",
      " 11  GPA                999997 non-null  float64\n",
      " 12  AttendanceRate     999997 non-null  float64\n",
      " 13  StudyHours         999995 non-null  float64\n",
      " 14  InternetAccess     999997 non-null  int64  \n",
      " 15  Extracurricular    999997 non-null  int64  \n",
      " 16  PartTimeJob        999997 non-null  int64  \n",
      " 17  ParentSupport      999996 non-null  float64\n",
      " 18  Romantic           999996 non-null  float64\n",
      " 19  FreeTime           999994 non-null  float64\n",
      " 20  GoOut              999990 non-null  float64\n",
      "dtypes: float64(10), int64(5), object(6)\n",
      "memory usage: 160.2+ MB\n"
     ]
    }
   ],
   "source": [
    "df.info()"
   ]
  },
  {
   "cell_type": "code",
   "execution_count": 27,
   "id": "50dd6cd9",
   "metadata": {},
   "outputs": [
    {
     "data": {
      "text/plain": [
       "Age                  0\n",
       "Grade                0\n",
       "Gender               3\n",
       "Race                 0\n",
       "SES_Quartile         0\n",
       "ParentalEducation    0\n",
       "SchoolType           0\n",
       "Locale               0\n",
       "TestScore_Math       0\n",
       "TestScore_Reading    2\n",
       "TestScore_Science    0\n",
       "GPA                  0\n",
       "AttendanceRate       0\n",
       "StudyHours           2\n",
       "InternetAccess       0\n",
       "Extracurricular      0\n",
       "PartTimeJob          0\n",
       "ParentSupport        1\n",
       "Romantic             1\n",
       "FreeTime             3\n",
       "GoOut                7\n",
       "dtype: int64"
      ]
     },
     "execution_count": 27,
     "metadata": {},
     "output_type": "execute_result"
    }
   ],
   "source": [
    "df.isnull().sum()"
   ]
  },
  {
   "cell_type": "code",
   "execution_count": 28,
   "id": "8b370879",
   "metadata": {},
   "outputs": [
    {
     "name": "stdout",
     "output_type": "stream",
     "text": [
      "Age\n",
      "Grade\n",
      "Gender\n",
      "Race\n",
      "SES_Quartile\n",
      "ParentalEducation\n",
      "SchoolType\n",
      "Locale\n",
      "TestScore_Math\n",
      "TestScore_Reading\n",
      "TestScore_Science\n",
      "GPA\n",
      "AttendanceRate\n",
      "StudyHours\n",
      "InternetAccess\n",
      "Extracurricular\n",
      "PartTimeJob\n",
      "ParentSupport\n",
      "Romantic\n",
      "FreeTime\n",
      "GoOut\n"
     ]
    }
   ],
   "source": [
    "# foor loop yordamida ustunlarni alohida ajratish.\n",
    "\n",
    "for col in df.columns:\n",
    "    print(col)"
   ]
  },
  {
   "cell_type": "code",
   "execution_count": 31,
   "id": "e8a6348a",
   "metadata": {},
   "outputs": [],
   "source": [
    "# for + if\n",
    "\n",
    "for col in df.columns:                                         # har bir ustun ichiga kirib tekshirib chiqishi \n",
    "    if df[col].isnull().any():                               # tushirib qoldirilgan qiymatlar broligini \n",
    "        if df[col].dtype=='object':                           # data type ni aniqlash        \n",
    "            df[col].fillna(df[col].mode()[0],inplace=True)     #agar dtype object bolsa mode bn toldirishi \n",
    "        else:                                                    # aks holda:\n",
    "            df[col].fillna(df[col].mean(),inplace=True)           # mean bn toldirishi  \n",
    "\n"
   ]
  },
  {
   "cell_type": "code",
   "execution_count": 32,
   "id": "e8057fb5",
   "metadata": {},
   "outputs": [
    {
     "name": "stdout",
     "output_type": "stream",
     "text": [
      "<class 'pandas.core.frame.DataFrame'>\n",
      "RangeIndex: 999997 entries, 0 to 999996\n",
      "Data columns (total 21 columns):\n",
      " #   Column             Non-Null Count   Dtype  \n",
      "---  ------             --------------   -----  \n",
      " 0   Age                999997 non-null  int64  \n",
      " 1   Grade              999997 non-null  int64  \n",
      " 2   Gender             999997 non-null  object \n",
      " 3   Race               999997 non-null  object \n",
      " 4   SES_Quartile       999997 non-null  object \n",
      " 5   ParentalEducation  999997 non-null  object \n",
      " 6   SchoolType         999997 non-null  object \n",
      " 7   Locale             999997 non-null  object \n",
      " 8   TestScore_Math     999997 non-null  float64\n",
      " 9   TestScore_Reading  999997 non-null  float64\n",
      " 10  TestScore_Science  999997 non-null  float64\n",
      " 11  GPA                999997 non-null  float64\n",
      " 12  AttendanceRate     999997 non-null  float64\n",
      " 13  StudyHours         999997 non-null  float64\n",
      " 14  InternetAccess     999997 non-null  int64  \n",
      " 15  Extracurricular    999997 non-null  int64  \n",
      " 16  PartTimeJob        999997 non-null  int64  \n",
      " 17  ParentSupport      999997 non-null  float64\n",
      " 18  Romantic           999997 non-null  float64\n",
      " 19  FreeTime           999997 non-null  float64\n",
      " 20  GoOut              999997 non-null  float64\n",
      "dtypes: float64(10), int64(5), object(6)\n",
      "memory usage: 160.2+ MB\n"
     ]
    }
   ],
   "source": [
    "df.info()"
   ]
  },
  {
   "cell_type": "markdown",
   "id": "45fc3e3d",
   "metadata": {},
   "source": [
    "# Vazifa topshiriq"
   ]
  },
  {
   "cell_type": "code",
   "execution_count": 94,
   "id": "a63ed70d",
   "metadata": {},
   "outputs": [],
   "source": [
    "# for loopdan foydalangan holda va foydalanmagan holda missing qiymatlarni 5 ta usulda toldirish.\n",
    "\n",
    "df=pd.read_csv('cybersecurity_intrusion_data.csv')"
   ]
  },
  {
   "cell_type": "code",
   "execution_count": 77,
   "id": "4c13757c",
   "metadata": {},
   "outputs": [
    {
     "name": "stdout",
     "output_type": "stream",
     "text": [
      "<class 'pandas.core.frame.DataFrame'>\n",
      "RangeIndex: 9537 entries, 0 to 9536\n",
      "Data columns (total 11 columns):\n",
      " #   Column               Non-Null Count  Dtype  \n",
      "---  ------               --------------  -----  \n",
      " 0   session_id           9537 non-null   object \n",
      " 1   network_packet_size  9537 non-null   int64  \n",
      " 2   protocol_type        9537 non-null   object \n",
      " 3   login_attempts       9537 non-null   int64  \n",
      " 4   session_duration     9537 non-null   float64\n",
      " 5   encryption_used      7572 non-null   object \n",
      " 6   ip_reputation_score  9537 non-null   float64\n",
      " 7   failed_logins        9536 non-null   object \n",
      " 8   browser_type         9536 non-null   object \n",
      " 9   unusual_time_access  9536 non-null   float64\n",
      " 10  attack_detected      9534 non-null   float64\n",
      "dtypes: float64(4), int64(2), object(5)\n",
      "memory usage: 819.7+ KB\n"
     ]
    }
   ],
   "source": [
    "df.info()"
   ]
  },
  {
   "cell_type": "code",
   "execution_count": 75,
   "id": "f46338cd",
   "metadata": {},
   "outputs": [],
   "source": [
    "for col in df.columns:\n",
    "    if df[col].isnull().any():\n",
    "        if df[col].dtype=='object':\n",
    "            df[col].fillna(df[col].mode()[0],inplace=True)\n",
    "        else:\n",
    "            df[col].fillna(df[col].mean(),inplace=True)\n",
    "        "
   ]
  },
  {
   "cell_type": "code",
   "execution_count": 73,
   "id": "f660c0c3",
   "metadata": {},
   "outputs": [
    {
     "name": "stdout",
     "output_type": "stream",
     "text": [
      "<class 'pandas.core.frame.DataFrame'>\n",
      "RangeIndex: 9537 entries, 0 to 9536\n",
      "Data columns (total 11 columns):\n",
      " #   Column               Non-Null Count  Dtype  \n",
      "---  ------               --------------  -----  \n",
      " 0   session_id           9537 non-null   object \n",
      " 1   network_packet_size  9537 non-null   int64  \n",
      " 2   protocol_type        9537 non-null   object \n",
      " 3   login_attempts       9537 non-null   int64  \n",
      " 4   session_duration     9537 non-null   float64\n",
      " 5   encryption_used      9537 non-null   object \n",
      " 6   ip_reputation_score  9537 non-null   float64\n",
      " 7   failed_logins        9537 non-null   object \n",
      " 8   browser_type         9537 non-null   object \n",
      " 9   unusual_time_access  9536 non-null   float64\n",
      " 10  attack_detected      9537 non-null   float64\n",
      "dtypes: float64(4), int64(2), object(5)\n",
      "memory usage: 819.7+ KB\n"
     ]
    }
   ],
   "source": [
    "df.info()"
   ]
  },
  {
   "cell_type": "code",
   "execution_count": null,
   "id": "a79e76b7",
   "metadata": {},
   "outputs": [],
   "source": [
    "# one hot encoding bn soxta ustun yasash\n",
    "\n",
    "dummies=pd.get_dummies(df['browser_type'],prefix='ustuncha',dtype=int)\n"
   ]
  },
  {
   "cell_type": "code",
   "execution_count": 89,
   "id": "9d73a233",
   "metadata": {},
   "outputs": [
    {
     "data": {
      "text/html": [
       "<div>\n",
       "<style scoped>\n",
       "    .dataframe tbody tr th:only-of-type {\n",
       "        vertical-align: middle;\n",
       "    }\n",
       "\n",
       "    .dataframe tbody tr th {\n",
       "        vertical-align: top;\n",
       "    }\n",
       "\n",
       "    .dataframe thead th {\n",
       "        text-align: right;\n",
       "    }\n",
       "</style>\n",
       "<table border=\"1\" class=\"dataframe\">\n",
       "  <thead>\n",
       "    <tr style=\"text-align: right;\">\n",
       "      <th></th>\n",
       "      <th>ustuncha_0</th>\n",
       "      <th>ustuncha_1</th>\n",
       "      <th>ustuncha_Chrome</th>\n",
       "      <th>ustuncha_Edge</th>\n",
       "      <th>ustuncha_Firefox</th>\n",
       "      <th>ustuncha_Safari</th>\n",
       "      <th>ustuncha_Unknown</th>\n",
       "    </tr>\n",
       "  </thead>\n",
       "  <tbody>\n",
       "    <tr>\n",
       "      <th>0</th>\n",
       "      <td>0</td>\n",
       "      <td>0</td>\n",
       "      <td>0</td>\n",
       "      <td>1</td>\n",
       "      <td>0</td>\n",
       "      <td>0</td>\n",
       "      <td>0</td>\n",
       "    </tr>\n",
       "    <tr>\n",
       "      <th>1</th>\n",
       "      <td>0</td>\n",
       "      <td>0</td>\n",
       "      <td>0</td>\n",
       "      <td>0</td>\n",
       "      <td>1</td>\n",
       "      <td>0</td>\n",
       "      <td>0</td>\n",
       "    </tr>\n",
       "    <tr>\n",
       "      <th>2</th>\n",
       "      <td>0</td>\n",
       "      <td>0</td>\n",
       "      <td>1</td>\n",
       "      <td>0</td>\n",
       "      <td>0</td>\n",
       "      <td>0</td>\n",
       "      <td>0</td>\n",
       "    </tr>\n",
       "    <tr>\n",
       "      <th>3</th>\n",
       "      <td>0</td>\n",
       "      <td>0</td>\n",
       "      <td>0</td>\n",
       "      <td>0</td>\n",
       "      <td>0</td>\n",
       "      <td>0</td>\n",
       "      <td>1</td>\n",
       "    </tr>\n",
       "    <tr>\n",
       "      <th>4</th>\n",
       "      <td>0</td>\n",
       "      <td>0</td>\n",
       "      <td>0</td>\n",
       "      <td>0</td>\n",
       "      <td>1</td>\n",
       "      <td>0</td>\n",
       "      <td>0</td>\n",
       "    </tr>\n",
       "    <tr>\n",
       "      <th>...</th>\n",
       "      <td>...</td>\n",
       "      <td>...</td>\n",
       "      <td>...</td>\n",
       "      <td>...</td>\n",
       "      <td>...</td>\n",
       "      <td>...</td>\n",
       "      <td>...</td>\n",
       "    </tr>\n",
       "    <tr>\n",
       "      <th>9532</th>\n",
       "      <td>0</td>\n",
       "      <td>0</td>\n",
       "      <td>1</td>\n",
       "      <td>0</td>\n",
       "      <td>0</td>\n",
       "      <td>0</td>\n",
       "      <td>0</td>\n",
       "    </tr>\n",
       "    <tr>\n",
       "      <th>9533</th>\n",
       "      <td>0</td>\n",
       "      <td>0</td>\n",
       "      <td>1</td>\n",
       "      <td>0</td>\n",
       "      <td>0</td>\n",
       "      <td>0</td>\n",
       "      <td>0</td>\n",
       "    </tr>\n",
       "    <tr>\n",
       "      <th>9534</th>\n",
       "      <td>0</td>\n",
       "      <td>0</td>\n",
       "      <td>0</td>\n",
       "      <td>0</td>\n",
       "      <td>1</td>\n",
       "      <td>0</td>\n",
       "      <td>0</td>\n",
       "    </tr>\n",
       "    <tr>\n",
       "      <th>9535</th>\n",
       "      <td>0</td>\n",
       "      <td>0</td>\n",
       "      <td>1</td>\n",
       "      <td>0</td>\n",
       "      <td>0</td>\n",
       "      <td>0</td>\n",
       "      <td>0</td>\n",
       "    </tr>\n",
       "    <tr>\n",
       "      <th>9536</th>\n",
       "      <td>0</td>\n",
       "      <td>0</td>\n",
       "      <td>1</td>\n",
       "      <td>0</td>\n",
       "      <td>0</td>\n",
       "      <td>0</td>\n",
       "      <td>0</td>\n",
       "    </tr>\n",
       "  </tbody>\n",
       "</table>\n",
       "<p>9537 rows × 7 columns</p>\n",
       "</div>"
      ],
      "text/plain": [
       "      ustuncha_0  ustuncha_1  ustuncha_Chrome  ustuncha_Edge  \\\n",
       "0              0           0                0              1   \n",
       "1              0           0                0              0   \n",
       "2              0           0                1              0   \n",
       "3              0           0                0              0   \n",
       "4              0           0                0              0   \n",
       "...          ...         ...              ...            ...   \n",
       "9532           0           0                1              0   \n",
       "9533           0           0                1              0   \n",
       "9534           0           0                0              0   \n",
       "9535           0           0                1              0   \n",
       "9536           0           0                1              0   \n",
       "\n",
       "      ustuncha_Firefox  ustuncha_Safari  ustuncha_Unknown  \n",
       "0                    0                0                 0  \n",
       "1                    1                0                 0  \n",
       "2                    0                0                 0  \n",
       "3                    0                0                 1  \n",
       "4                    1                0                 0  \n",
       "...                ...              ...               ...  \n",
       "9532                 0                0                 0  \n",
       "9533                 0                0                 0  \n",
       "9534                 1                0                 0  \n",
       "9535                 0                0                 0  \n",
       "9536                 0                0                 0  \n",
       "\n",
       "[9537 rows x 7 columns]"
      ]
     },
     "execution_count": 89,
     "metadata": {},
     "output_type": "execute_result"
    }
   ],
   "source": [
    "dummies"
   ]
  },
  {
   "cell_type": "code",
   "execution_count": 96,
   "id": "12d0939f",
   "metadata": {},
   "outputs": [],
   "source": [
    "#birlashtirish yani eskisini tasglab yuborish\n",
    "\n",
    "df=pd.concat([df.drop(columns='browser_type'), dummies],axis=1)"
   ]
  },
  {
   "cell_type": "code",
   "execution_count": null,
   "id": "360a8bc3",
   "metadata": {},
   "outputs": [
    {
     "name": "stdout",
     "output_type": "stream",
     "text": [
      "<class 'pandas.core.frame.DataFrame'>\n",
      "RangeIndex: 9537 entries, 0 to 9536\n",
      "Data columns (total 17 columns):\n",
      " #   Column               Non-Null Count  Dtype  \n",
      "---  ------               --------------  -----  \n",
      " 0   session_id           9537 non-null   object \n",
      " 1   network_packet_size  9537 non-null   int64  \n",
      " 2   protocol_type        9537 non-null   object \n",
      " 3   login_attempts       9537 non-null   int64  \n",
      " 4   session_duration     9537 non-null   float64\n",
      " 5   encryption_used      7572 non-null   object \n",
      " 6   ip_reputation_score  9537 non-null   float64\n",
      " 7   failed_logins        9536 non-null   object \n",
      " 8   unusual_time_access  9536 non-null   float64\n",
      " 9   attack_detected      9534 non-null   float64\n",
      " 10  ustuncha_0           9537 non-null   int64  \n",
      " 11  ustuncha_1           9537 non-null   int64  \n",
      " 12  ustuncha_Chrome      9537 non-null   int64  \n",
      " 13  ustuncha_Edge        9537 non-null   int64  \n",
      " 14  ustuncha_Firefox     9537 non-null   int64  \n",
      " 15  ustuncha_Safari      9537 non-null   int64  \n",
      " 16  ustuncha_Unknown     9537 non-null   int64  \n",
      "dtypes: float64(4), int64(9), object(4)\n",
      "memory usage: 1.2+ MB\n"
     ]
    }
   ],
   "source": [
    "df.info()\n"
   ]
  },
  {
   "cell_type": "code",
   "execution_count": 106,
   "id": "0f4bc725",
   "metadata": {},
   "outputs": [
    {
     "data": {
      "text/html": [
       "<div>\n",
       "<style scoped>\n",
       "    .dataframe tbody tr th:only-of-type {\n",
       "        vertical-align: middle;\n",
       "    }\n",
       "\n",
       "    .dataframe tbody tr th {\n",
       "        vertical-align: top;\n",
       "    }\n",
       "\n",
       "    .dataframe thead th {\n",
       "        text-align: right;\n",
       "    }\n",
       "</style>\n",
       "<table border=\"1\" class=\"dataframe\">\n",
       "  <thead>\n",
       "    <tr style=\"text-align: right;\">\n",
       "      <th></th>\n",
       "      <th>session_id</th>\n",
       "      <th>network_packet_size</th>\n",
       "      <th>protocol_type</th>\n",
       "      <th>login_attempts</th>\n",
       "      <th>session_duration</th>\n",
       "      <th>encryption_used</th>\n",
       "      <th>ip_reputation_score</th>\n",
       "      <th>failed_logins</th>\n",
       "      <th>unusual_time_access</th>\n",
       "      <th>attack_detected</th>\n",
       "      <th>ustuncha_0</th>\n",
       "      <th>ustuncha_1</th>\n",
       "      <th>ustuncha_Chrome</th>\n",
       "      <th>ustuncha_Edge</th>\n",
       "      <th>ustuncha_Firefox</th>\n",
       "      <th>ustuncha_Safari</th>\n",
       "      <th>ustuncha_Unknown</th>\n",
       "    </tr>\n",
       "  </thead>\n",
       "  <tbody>\n",
       "    <tr>\n",
       "      <th>0</th>\n",
       "      <td>SID_00001</td>\n",
       "      <td>599</td>\n",
       "      <td>TCP</td>\n",
       "      <td>4</td>\n",
       "      <td>492.983263</td>\n",
       "      <td>DES</td>\n",
       "      <td>0.606818</td>\n",
       "      <td>1</td>\n",
       "      <td>0.0</td>\n",
       "      <td>1.0</td>\n",
       "      <td>0</td>\n",
       "      <td>0</td>\n",
       "      <td>0</td>\n",
       "      <td>1</td>\n",
       "      <td>0</td>\n",
       "      <td>0</td>\n",
       "      <td>0</td>\n",
       "    </tr>\n",
       "    <tr>\n",
       "      <th>1</th>\n",
       "      <td>SID_00002</td>\n",
       "      <td>472</td>\n",
       "      <td>TCP</td>\n",
       "      <td>3</td>\n",
       "      <td>1557.996461</td>\n",
       "      <td>DES</td>\n",
       "      <td>0.301569</td>\n",
       "      <td>0</td>\n",
       "      <td>0.0</td>\n",
       "      <td>0.0</td>\n",
       "      <td>0</td>\n",
       "      <td>0</td>\n",
       "      <td>0</td>\n",
       "      <td>0</td>\n",
       "      <td>1</td>\n",
       "      <td>0</td>\n",
       "      <td>0</td>\n",
       "    </tr>\n",
       "    <tr>\n",
       "      <th>2</th>\n",
       "      <td>SID_00003</td>\n",
       "      <td>629</td>\n",
       "      <td>TCP</td>\n",
       "      <td>3</td>\n",
       "      <td>75.044262</td>\n",
       "      <td>DES</td>\n",
       "      <td>0.739164</td>\n",
       "      <td>2</td>\n",
       "      <td>0.0</td>\n",
       "      <td>1.0</td>\n",
       "      <td>0</td>\n",
       "      <td>0</td>\n",
       "      <td>1</td>\n",
       "      <td>0</td>\n",
       "      <td>0</td>\n",
       "      <td>0</td>\n",
       "      <td>0</td>\n",
       "    </tr>\n",
       "    <tr>\n",
       "      <th>3</th>\n",
       "      <td>SID_00004</td>\n",
       "      <td>804</td>\n",
       "      <td>UDP</td>\n",
       "      <td>4</td>\n",
       "      <td>601.248835</td>\n",
       "      <td>DES</td>\n",
       "      <td>0.123267</td>\n",
       "      <td>0</td>\n",
       "      <td>0.0</td>\n",
       "      <td>1.0</td>\n",
       "      <td>0</td>\n",
       "      <td>0</td>\n",
       "      <td>0</td>\n",
       "      <td>0</td>\n",
       "      <td>0</td>\n",
       "      <td>0</td>\n",
       "      <td>1</td>\n",
       "    </tr>\n",
       "    <tr>\n",
       "      <th>4</th>\n",
       "      <td>SID_00005</td>\n",
       "      <td>453</td>\n",
       "      <td>TCP</td>\n",
       "      <td>5</td>\n",
       "      <td>532.540888</td>\n",
       "      <td>AES</td>\n",
       "      <td>0.054874</td>\n",
       "      <td>1</td>\n",
       "      <td>0.0</td>\n",
       "      <td>0.0</td>\n",
       "      <td>0</td>\n",
       "      <td>0</td>\n",
       "      <td>0</td>\n",
       "      <td>0</td>\n",
       "      <td>1</td>\n",
       "      <td>0</td>\n",
       "      <td>0</td>\n",
       "    </tr>\n",
       "  </tbody>\n",
       "</table>\n",
       "</div>"
      ],
      "text/plain": [
       "  session_id  network_packet_size protocol_type  login_attempts  \\\n",
       "0  SID_00001                  599           TCP               4   \n",
       "1  SID_00002                  472           TCP               3   \n",
       "2  SID_00003                  629           TCP               3   \n",
       "3  SID_00004                  804           UDP               4   \n",
       "4  SID_00005                  453           TCP               5   \n",
       "\n",
       "   session_duration encryption_used  ip_reputation_score failed_logins  \\\n",
       "0        492.983263             DES             0.606818             1   \n",
       "1       1557.996461             DES             0.301569             0   \n",
       "2         75.044262             DES             0.739164             2   \n",
       "3        601.248835             DES             0.123267             0   \n",
       "4        532.540888             AES             0.054874             1   \n",
       "\n",
       "   unusual_time_access  attack_detected  ustuncha_0  ustuncha_1  \\\n",
       "0                  0.0              1.0           0           0   \n",
       "1                  0.0              0.0           0           0   \n",
       "2                  0.0              1.0           0           0   \n",
       "3                  0.0              1.0           0           0   \n",
       "4                  0.0              0.0           0           0   \n",
       "\n",
       "   ustuncha_Chrome  ustuncha_Edge  ustuncha_Firefox  ustuncha_Safari  \\\n",
       "0                0              1                 0                0   \n",
       "1                0              0                 1                0   \n",
       "2                1              0                 0                0   \n",
       "3                0              0                 0                0   \n",
       "4                0              0                 1                0   \n",
       "\n",
       "   ustuncha_Unknown  \n",
       "0                 0  \n",
       "1                 0  \n",
       "2                 0  \n",
       "3                 1  \n",
       "4                 0  "
      ]
     },
     "execution_count": 106,
     "metadata": {},
     "output_type": "execute_result"
    }
   ],
   "source": [
    "df.head()"
   ]
  },
  {
   "cell_type": "code",
   "execution_count": 102,
   "id": "aaf5c1ba",
   "metadata": {},
   "outputs": [],
   "source": [
    "df['encryption_used'].fillna(df['encryption_used'].mode()[0], inplace=True)\n"
   ]
  },
  {
   "cell_type": "code",
   "execution_count": 104,
   "id": "5ce18718",
   "metadata": {},
   "outputs": [
    {
     "name": "stderr",
     "output_type": "stream",
     "text": [
      "C:\\Users\\Admin\\AppData\\Local\\Temp\\ipykernel_12008\\36685662.py:1: FutureWarning: A value is trying to be set on a copy of a DataFrame or Series through chained assignment using an inplace method.\n",
      "The behavior will change in pandas 3.0. This inplace method will never work because the intermediate object on which we are setting values always behaves as a copy.\n",
      "\n",
      "For example, when doing 'df[col].method(value, inplace=True)', try using 'df.method({col: value}, inplace=True)' or df[col] = df[col].method(value) instead, to perform the operation inplace on the original object.\n",
      "\n",
      "\n",
      "  df['unusual_time_access'].fillna(df['unusual_time_access'].mean(),inplace=True)\n"
     ]
    }
   ],
   "source": [
    "df['unusual_time_access'].fillna(df['unusual_time_access'].mean(),inplace=True)\n"
   ]
  },
  {
   "cell_type": "code",
   "execution_count": 105,
   "id": "70173d57",
   "metadata": {},
   "outputs": [
    {
     "name": "stderr",
     "output_type": "stream",
     "text": [
      "C:\\Users\\Admin\\AppData\\Local\\Temp\\ipykernel_12008\\3909625954.py:1: FutureWarning: A value is trying to be set on a copy of a DataFrame or Series through chained assignment using an inplace method.\n",
      "The behavior will change in pandas 3.0. This inplace method will never work because the intermediate object on which we are setting values always behaves as a copy.\n",
      "\n",
      "For example, when doing 'df[col].method(value, inplace=True)', try using 'df.method({col: value}, inplace=True)' or df[col] = df[col].method(value) instead, to perform the operation inplace on the original object.\n",
      "\n",
      "\n",
      "  df['attack_detected'].fillna(df['attack_detected'].median(),inplace=True)\n"
     ]
    }
   ],
   "source": [
    "df['attack_detected'].fillna(df['attack_detected'].median(),inplace=True)\n"
   ]
  },
  {
   "cell_type": "code",
   "execution_count": null,
   "id": "ab6ea87b",
   "metadata": {},
   "outputs": [],
   "source": [
    "df.drop('failed_logins', axis=1, inplace=True)"
   ]
  },
  {
   "cell_type": "code",
   "execution_count": 114,
   "id": "c0984308",
   "metadata": {},
   "outputs": [
    {
     "name": "stderr",
     "output_type": "stream",
     "text": [
      "C:\\Users\\Admin\\AppData\\Local\\Temp\\ipykernel_12008\\2601806197.py:1: FutureWarning: A value is trying to be set on a copy of a DataFrame or Series through chained assignment using an inplace method.\n",
      "The behavior will change in pandas 3.0. This inplace method will never work because the intermediate object on which we are setting values always behaves as a copy.\n",
      "\n",
      "For example, when doing 'df[col].method(value, inplace=True)', try using 'df.method({col: value}, inplace=True)' or df[col] = df[col].method(value) instead, to perform the operation inplace on the original object.\n",
      "\n",
      "\n",
      "  df['attack_detected'].fillna('1.0', inplace=True)\n"
     ]
    }
   ],
   "source": [
    "df['attack_detected'].fillna('1.0', inplace=True)"
   ]
  },
  {
   "cell_type": "code",
   "execution_count": 115,
   "id": "dcb9a3d7",
   "metadata": {},
   "outputs": [
    {
     "name": "stdout",
     "output_type": "stream",
     "text": [
      "<class 'pandas.core.frame.DataFrame'>\n",
      "RangeIndex: 9537 entries, 0 to 9536\n",
      "Data columns (total 16 columns):\n",
      " #   Column               Non-Null Count  Dtype  \n",
      "---  ------               --------------  -----  \n",
      " 0   session_id           9537 non-null   object \n",
      " 1   network_packet_size  9537 non-null   int64  \n",
      " 2   protocol_type        9537 non-null   object \n",
      " 3   login_attempts       9537 non-null   int64  \n",
      " 4   session_duration     9537 non-null   float64\n",
      " 5   encryption_used      9537 non-null   object \n",
      " 6   ip_reputation_score  9537 non-null   float64\n",
      " 7   unusual_time_access  9537 non-null   float64\n",
      " 8   attack_detected      9537 non-null   float64\n",
      " 9   ustuncha_0           9537 non-null   int64  \n",
      " 10  ustuncha_1           9537 non-null   int64  \n",
      " 11  ustuncha_Chrome      9537 non-null   int64  \n",
      " 12  ustuncha_Edge        9537 non-null   int64  \n",
      " 13  ustuncha_Firefox     9537 non-null   int64  \n",
      " 14  ustuncha_Safari      9537 non-null   int64  \n",
      " 15  ustuncha_Unknown     9537 non-null   int64  \n",
      "dtypes: float64(4), int64(9), object(3)\n",
      "memory usage: 1.2+ MB\n"
     ]
    }
   ],
   "source": [
    "df.info()"
   ]
  },
  {
   "cell_type": "code",
   "execution_count": null,
   "id": "cb6d842a",
   "metadata": {},
   "outputs": [],
   "source": []
  }
 ],
 "metadata": {
  "kernelspec": {
   "display_name": "base",
   "language": "python",
   "name": "python3"
  },
  "language_info": {
   "codemirror_mode": {
    "name": "ipython",
    "version": 3
   },
   "file_extension": ".py",
   "mimetype": "text/x-python",
   "name": "python",
   "nbconvert_exporter": "python",
   "pygments_lexer": "ipython3",
   "version": "3.13.5"
  }
 },
 "nbformat": 4,
 "nbformat_minor": 5
}
